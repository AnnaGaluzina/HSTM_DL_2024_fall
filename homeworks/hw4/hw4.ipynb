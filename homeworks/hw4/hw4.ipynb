{
 "cells": [
  {
   "cell_type": "code",
   "execution_count": 2,
   "id": "92032c88-14c1-4cf7-99f2-5ce68f20fe6f",
   "metadata": {
    "execution": {
     "iopub.execute_input": "2025-04-07T13:39:33.807090Z",
     "iopub.status.busy": "2025-04-07T13:39:33.806084Z",
     "iopub.status.idle": "2025-04-07T13:39:33.852015Z",
     "shell.execute_reply": "2025-04-07T13:39:33.851132Z",
     "shell.execute_reply.started": "2025-04-07T13:39:33.807050Z"
    },
    "tags": []
   },
   "outputs": [],
   "source": [
    "# pip install torch"
   ]
  },
  {
   "cell_type": "code",
   "execution_count": 4,
   "id": "3c057dfe-84d5-4d4a-b817-83b4c115da2c",
   "metadata": {
    "execution": {
     "iopub.execute_input": "2025-04-07T13:39:43.181118Z",
     "iopub.status.busy": "2025-04-07T13:39:43.179856Z",
     "iopub.status.idle": "2025-04-07T13:39:43.201505Z",
     "shell.execute_reply": "2025-04-07T13:39:43.200707Z",
     "shell.execute_reply.started": "2025-04-07T13:39:43.181061Z"
    },
    "tags": []
   },
   "outputs": [],
   "source": [
    "# pip install transformers"
   ]
  },
  {
   "cell_type": "code",
   "execution_count": 2,
   "id": "1ceef209-de01-48d1-89b2-f8255c583e56",
   "metadata": {
    "execution": {
     "iopub.execute_input": "2025-04-07T13:34:05.223710Z",
     "iopub.status.busy": "2025-04-07T13:34:05.222295Z",
     "iopub.status.idle": "2025-04-07T13:34:05.238157Z",
     "shell.execute_reply": "2025-04-07T13:34:05.237319Z",
     "shell.execute_reply.started": "2025-04-07T13:34:05.223657Z"
    },
    "tags": []
   },
   "outputs": [],
   "source": [
    "# pip install datasets"
   ]
  },
  {
   "cell_type": "code",
   "execution_count": 4,
   "id": "1cb132fa-a211-4e74-9909-775557ac5f00",
   "metadata": {
    "execution": {
     "iopub.execute_input": "2025-04-06T13:03:57.983294Z",
     "iopub.status.busy": "2025-04-06T13:03:57.982039Z",
     "iopub.status.idle": "2025-04-06T13:03:58.017562Z",
     "shell.execute_reply": "2025-04-06T13:03:58.016462Z",
     "shell.execute_reply.started": "2025-04-06T13:03:57.983248Z"
    },
    "tags": []
   },
   "outputs": [],
   "source": [
    "# pip install torch==2.1.2 torchvision torchaudio --index-url https://download.pytorch.org/whl/cpu"
   ]
  },
  {
   "cell_type": "code",
   "execution_count": 2,
   "id": "8f59556b-3c91-499f-9288-50a7b6d5bda1",
   "metadata": {
    "execution": {
     "iopub.execute_input": "2025-04-07T13:36:22.971606Z",
     "iopub.status.busy": "2025-04-07T13:36:22.970953Z",
     "iopub.status.idle": "2025-04-07T13:36:22.986201Z",
     "shell.execute_reply": "2025-04-07T13:36:22.985402Z",
     "shell.execute_reply.started": "2025-04-07T13:36:22.971567Z"
    },
    "tags": []
   },
   "outputs": [],
   "source": [
    "# pip install transformers==4.36.2"
   ]
  },
  {
   "cell_type": "code",
   "execution_count": 5,
   "id": "a227062b-aed9-452c-9837-6ee2bf0602a5",
   "metadata": {
    "execution": {
     "iopub.execute_input": "2025-04-07T13:39:47.886691Z",
     "iopub.status.busy": "2025-04-07T13:39:47.885516Z",
     "iopub.status.idle": "2025-04-07T13:39:53.616929Z",
     "shell.execute_reply": "2025-04-07T13:39:53.615983Z",
     "shell.execute_reply.started": "2025-04-07T13:39:47.886647Z"
    },
    "tags": []
   },
   "outputs": [
    {
     "name": "stderr",
     "output_type": "stream",
     "text": [
      "/home/jupyter/.local/lib/python3.10/site-packages/transformers/utils/hub.py:123: FutureWarning: Using `TRANSFORMERS_CACHE` is deprecated and will be removed in v5 of Transformers. Use `HF_HOME` instead.\n",
      "  warnings.warn(\n",
      "2025-04-07 13:39:52.676158: W tensorflow/compiler/tf2tensorrt/utils/py_utils.cc:38] TF-TRT Warning: Could not find TensorRT\n",
      "/usr/local/lib/python3.10/dist-packages/torch/cuda/__init__.py:546: UserWarning: Can't initialize NVML\n",
      "  warnings.warn(\"Can't initialize NVML\")\n"
     ]
    }
   ],
   "source": [
    "import pandas as pd\n",
    "import torch\n",
    "from datasets import Dataset\n",
    "from sklearn.metrics import accuracy_score, confusion_matrix, f1_score\n",
    "from sklearn.model_selection import train_test_split\n",
    "from torch.utils.data import DataLoader\n",
    "from transformers import (\n",
    "    AutoModelForSequenceClassification,\n",
    "    AutoTokenizer,\n",
    "    DataCollatorWithPadding,\n",
    "    Trainer,\n",
    "    TrainingArguments,\n",
    ")"
   ]
  },
  {
   "cell_type": "code",
   "execution_count": 6,
   "id": "d033301a-f849-4e87-a248-e74f8c651add",
   "metadata": {
    "execution": {
     "iopub.execute_input": "2025-04-07T13:39:53.619659Z",
     "iopub.status.busy": "2025-04-07T13:39:53.618507Z",
     "iopub.status.idle": "2025-04-07T13:39:53.658114Z",
     "shell.execute_reply": "2025-04-07T13:39:53.657225Z",
     "shell.execute_reply.started": "2025-04-07T13:39:53.619615Z"
    },
    "tags": []
   },
   "outputs": [],
   "source": [
    "# 1. Загрузка данных\n",
    "df = pd.read_csv('data/train.csv')\n",
    "\n",
    "# 2. Разделение на train и valid\n",
    "train_df, valid_df = train_test_split(df, test_size=0.2, stratify=df['label'], random_state=42)"
   ]
  },
  {
   "cell_type": "code",
   "execution_count": 7,
   "id": "cb33fb2c-770f-43fb-b304-283fe453d754",
   "metadata": {
    "execution": {
     "iopub.execute_input": "2025-04-07T13:39:53.660377Z",
     "iopub.status.busy": "2025-04-07T13:39:53.659252Z",
     "iopub.status.idle": "2025-04-07T13:39:53.699307Z",
     "shell.execute_reply": "2025-04-07T13:39:53.698323Z",
     "shell.execute_reply.started": "2025-04-07T13:39:53.660349Z"
    },
    "tags": []
   },
   "outputs": [],
   "source": [
    "# 3. Преобразование в Huggingface Datasets\n",
    "train_dataset = Dataset.from_pandas(train_df)\n",
    "valid_dataset = Dataset.from_pandas(valid_df)"
   ]
  },
  {
   "cell_type": "code",
   "execution_count": 8,
   "id": "241b5c56-46e0-44e7-9e70-34111dc9270d",
   "metadata": {
    "execution": {
     "iopub.execute_input": "2025-04-07T13:39:53.701815Z",
     "iopub.status.busy": "2025-04-07T13:39:53.700696Z",
     "iopub.status.idle": "2025-04-07T13:39:55.458248Z",
     "shell.execute_reply": "2025-04-07T13:39:55.457305Z",
     "shell.execute_reply.started": "2025-04-07T13:39:53.701775Z"
    },
    "tags": []
   },
   "outputs": [
    {
     "name": "stderr",
     "output_type": "stream",
     "text": [
      "/home/jupyter/.local/lib/python3.10/site-packages/huggingface_hub/file_download.py:896: FutureWarning: `resume_download` is deprecated and will be removed in version 1.0.0. Downloads always resume when possible. If you want to force a new download, use `force_download=True`.\n",
      "  warnings.warn(\n"
     ]
    }
   ],
   "source": [
    "# 4. Токенизатор\n",
    "model_checkpoint = \"distilbert/distilroberta-base\"\n",
    "tokenizer = AutoTokenizer.from_pretrained(model_checkpoint)"
   ]
  },
  {
   "cell_type": "code",
   "execution_count": 9,
   "id": "aad35294-f7d8-4467-ab80-cca9a2633abc",
   "metadata": {
    "execution": {
     "iopub.execute_input": "2025-04-07T13:39:55.460938Z",
     "iopub.status.busy": "2025-04-07T13:39:55.459995Z",
     "iopub.status.idle": "2025-04-07T13:39:56.168504Z",
     "shell.execute_reply": "2025-04-07T13:39:56.167637Z",
     "shell.execute_reply.started": "2025-04-07T13:39:55.460905Z"
    },
    "tags": []
   },
   "outputs": [
    {
     "name": "stderr",
     "output_type": "stream",
     "text": [
      "Map: 100%|██████████| 4727/4727 [00:00<00:00, 9495.69 examples/s]\n",
      "Map: 100%|██████████| 1182/1182 [00:00<00:00, 9362.73 examples/s]\n"
     ]
    }
   ],
   "source": [
    "def tokenize(example):\n",
    "    return tokenizer(example[\"text\"], truncation=True, padding='max_length', max_length=256)\n",
    "\n",
    "train_dataset = train_dataset.map(tokenize, batched=True)\n",
    "valid_dataset = valid_dataset.map(tokenize, batched=True)"
   ]
  },
  {
   "cell_type": "code",
   "execution_count": 10,
   "id": "bcb9ecf9-695b-4162-b722-63e2d1cd5e16",
   "metadata": {
    "execution": {
     "iopub.execute_input": "2025-04-07T13:39:56.170688Z",
     "iopub.status.busy": "2025-04-07T13:39:56.169804Z",
     "iopub.status.idle": "2025-04-07T13:39:56.200108Z",
     "shell.execute_reply": "2025-04-07T13:39:56.199351Z",
     "shell.execute_reply.started": "2025-04-07T13:39:56.170648Z"
    },
    "tags": []
   },
   "outputs": [],
   "source": [
    "# 5. Удалим старые колонки и приведём к нужному формату\n",
    "train_dataset = train_dataset.remove_columns([\"text\", \"__index_level_0__\"])\n",
    "valid_dataset = valid_dataset.remove_columns([\"text\", \"__index_level_0__\"])\n",
    "train_dataset.set_format(\"torch\")\n",
    "valid_dataset.set_format(\"torch\")"
   ]
  },
  {
   "cell_type": "code",
   "execution_count": 11,
   "id": "07e5b06e-ea26-4c25-af3c-e6f46e2f9a9b",
   "metadata": {
    "execution": {
     "iopub.execute_input": "2025-04-07T13:39:56.203111Z",
     "iopub.status.busy": "2025-04-07T13:39:56.201881Z",
     "iopub.status.idle": "2025-04-07T13:39:56.645981Z",
     "shell.execute_reply": "2025-04-07T13:39:56.645106Z",
     "shell.execute_reply.started": "2025-04-07T13:39:56.203072Z"
    },
    "tags": []
   },
   "outputs": [
    {
     "name": "stderr",
     "output_type": "stream",
     "text": [
      "Some weights of RobertaForSequenceClassification were not initialized from the model checkpoint at distilbert/distilroberta-base and are newly initialized: ['classifier.dense.weight', 'classifier.dense.bias', 'classifier.out_proj.bias', 'classifier.out_proj.weight']\n",
      "You should probably TRAIN this model on a down-stream task to be able to use it for predictions and inference.\n"
     ]
    }
   ],
   "source": [
    "# 6. Загрузка модели\n",
    "model = AutoModelForSequenceClassification.from_pretrained(model_checkpoint, num_labels=2)"
   ]
  },
  {
   "cell_type": "code",
   "execution_count": 12,
   "id": "6c8c9844-60fb-4141-88ce-b96a23eeddfc",
   "metadata": {
    "execution": {
     "iopub.execute_input": "2025-04-07T13:39:57.598681Z",
     "iopub.status.busy": "2025-04-07T13:39:57.597524Z",
     "iopub.status.idle": "2025-04-07T13:39:57.629181Z",
     "shell.execute_reply": "2025-04-07T13:39:57.628005Z",
     "shell.execute_reply.started": "2025-04-07T13:39:57.598643Z"
    },
    "tags": []
   },
   "outputs": [],
   "source": [
    "# pip install transformers[torch]"
   ]
  },
  {
   "cell_type": "code",
   "execution_count": 12,
   "id": "4a8884e0-147e-4ce5-9802-e6e4bac24652",
   "metadata": {
    "execution": {
     "iopub.execute_input": "2025-04-07T13:38:34.438523Z",
     "iopub.status.busy": "2025-04-07T13:38:34.437067Z",
     "iopub.status.idle": "2025-04-07T13:38:34.452722Z",
     "shell.execute_reply": "2025-04-07T13:38:34.452027Z",
     "shell.execute_reply.started": "2025-04-07T13:38:34.438470Z"
    },
    "tags": []
   },
   "outputs": [],
   "source": [
    "# pip install -U accelerate==0.25.0"
   ]
  },
  {
   "cell_type": "code",
   "execution_count": 13,
   "id": "33a2be74-06ec-416e-bc1c-0d5abb3a071c",
   "metadata": {
    "execution": {
     "iopub.execute_input": "2025-04-07T13:40:01.062113Z",
     "iopub.status.busy": "2025-04-07T13:40:01.061233Z",
     "iopub.status.idle": "2025-04-07T13:40:01.086820Z",
     "shell.execute_reply": "2025-04-07T13:40:01.086036Z",
     "shell.execute_reply.started": "2025-04-07T13:40:01.062074Z"
    },
    "tags": []
   },
   "outputs": [],
   "source": [
    "# 7. Тренировочные параметры\n",
    "training_args = TrainingArguments(\n",
    "    output_dir=\"./results\",\n",
    "    evaluation_strategy=\"epoch\",\n",
    "    save_strategy=\"epoch\",\n",
    "    learning_rate=2e-5,\n",
    "    per_device_train_batch_size=16,\n",
    "    per_device_eval_batch_size=32,\n",
    "    num_train_epochs=3,\n",
    "    weight_decay=0.01,\n",
    "    logging_dir=\"./logs\",\n",
    "    report_to=\"none\",\n",
    "    load_best_model_at_end=True,\n",
    "    metric_for_best_model=\"f1\",\n",
    "    greater_is_better=True\n",
    ")\n",
    "\n",
    "data_collator = DataCollatorWithPadding(tokenizer=tokenizer)"
   ]
  },
  {
   "cell_type": "code",
   "execution_count": 14,
   "id": "efcad55b-ced6-4266-af05-a4db473862c7",
   "metadata": {
    "execution": {
     "iopub.execute_input": "2025-04-07T13:40:02.906954Z",
     "iopub.status.busy": "2025-04-07T13:40:02.905518Z",
     "iopub.status.idle": "2025-04-07T14:33:13.329028Z",
     "shell.execute_reply": "2025-04-07T14:33:13.328164Z",
     "shell.execute_reply.started": "2025-04-07T13:40:02.906907Z"
    },
    "tags": []
   },
   "outputs": [
    {
     "name": "stderr",
     "output_type": "stream",
     "text": [
      "Detected kernel version 5.4.0, which is below the recommended minimum of 5.5.0; this can cause the process to hang. It is recommended to upgrade the kernel to the minimum version or higher.\n",
      "  0%|          | 0/888 [00:00<?, ?it/s]You're using a RobertaTokenizerFast tokenizer. Please note that with a fast tokenizer, using the `__call__` method is faster than using a method to encode the text followed by a call to the `pad` method to get a padded encoding.\n",
      " 33%|███▎      | 296/888 [15:59<26:01,  2.64s/it]\n",
      "  0%|          | 0/37 [00:00<?, ?it/s]\u001b[A\n",
      "  5%|▌         | 2/37 [00:01<00:31,  1.11it/s]\u001b[A\n",
      "  8%|▊         | 3/37 [00:03<00:43,  1.27s/it]\u001b[A\n",
      " 11%|█         | 4/37 [00:05<00:48,  1.46s/it]\u001b[A\n",
      " 14%|█▎        | 5/37 [00:07<00:50,  1.57s/it]\u001b[A\n",
      " 16%|█▌        | 6/37 [00:08<00:50,  1.63s/it]\u001b[A\n",
      " 19%|█▉        | 7/37 [00:10<00:50,  1.68s/it]\u001b[A\n",
      " 22%|██▏       | 8/37 [00:12<00:49,  1.71s/it]\u001b[A\n",
      " 24%|██▍       | 9/37 [00:14<00:48,  1.73s/it]\u001b[A\n",
      " 27%|██▋       | 10/37 [00:15<00:46,  1.74s/it]\u001b[A\n",
      " 30%|██▉       | 11/37 [00:17<00:45,  1.76s/it]\u001b[A\n",
      " 32%|███▏      | 12/37 [00:19<00:44,  1.76s/it]\u001b[A\n",
      " 35%|███▌      | 13/37 [00:21<00:42,  1.76s/it]\u001b[A\n",
      " 38%|███▊      | 14/37 [00:23<00:40,  1.76s/it]\u001b[A\n",
      " 41%|████      | 15/37 [00:24<00:39,  1.78s/it]\u001b[A\n",
      " 43%|████▎     | 16/37 [00:26<00:37,  1.78s/it]\u001b[A\n",
      " 46%|████▌     | 17/37 [00:28<00:35,  1.78s/it]\u001b[A\n",
      " 49%|████▊     | 18/37 [00:30<00:33,  1.78s/it]\u001b[A\n",
      " 51%|█████▏    | 19/37 [00:32<00:32,  1.78s/it]\u001b[A\n",
      " 54%|█████▍    | 20/37 [00:33<00:30,  1.78s/it]\u001b[A\n",
      " 57%|█████▋    | 21/37 [00:35<00:28,  1.78s/it]\u001b[A\n",
      " 59%|█████▉    | 22/37 [00:37<00:26,  1.78s/it]\u001b[A\n",
      " 62%|██████▏   | 23/37 [00:39<00:25,  1.79s/it]\u001b[A\n",
      " 65%|██████▍   | 24/37 [00:40<00:23,  1.79s/it]\u001b[A\n",
      " 68%|██████▊   | 25/37 [00:42<00:21,  1.79s/it]\u001b[A\n",
      " 70%|███████   | 26/37 [00:44<00:19,  1.79s/it]\u001b[A\n",
      " 73%|███████▎  | 27/37 [00:46<00:17,  1.78s/it]\u001b[A\n",
      " 76%|███████▌  | 28/37 [00:48<00:16,  1.78s/it]\u001b[A\n",
      " 78%|███████▊  | 29/37 [00:49<00:14,  1.78s/it]\u001b[A\n",
      " 81%|████████  | 30/37 [00:51<00:12,  1.78s/it]\u001b[A\n",
      " 84%|████████▍ | 31/37 [00:53<00:10,  1.78s/it]\u001b[A\n",
      " 86%|████████▋ | 32/37 [00:55<00:08,  1.78s/it]\u001b[A\n",
      " 89%|████████▉ | 33/37 [00:57<00:07,  1.79s/it]\u001b[A\n",
      " 92%|█████████▏| 34/37 [00:58<00:05,  1.79s/it]\u001b[A\n",
      " 95%|█████████▍| 35/37 [01:00<00:03,  1.78s/it]\u001b[A\n",
      " 97%|█████████▋| 36/37 [01:02<00:01,  1.78s/it]\u001b[A\n",
      "                                                 A\n",
      " 33%|███▎      | 296/888 [17:05<26:01,  2.64s/it]\n",
      "100%|██████████| 37/37 [01:04<00:00,  1.74s/it]\u001b[A\n",
      "                                               \u001b[A"
     ]
    },
    {
     "name": "stdout",
     "output_type": "stream",
     "text": [
      "{'eval_loss': 0.20527902245521545, 'eval_accuracy': 0.8934010152284264, 'eval_f1': 0.8908145580589255, 'eval_runtime': 65.7955, 'eval_samples_per_second': 17.965, 'eval_steps_per_second': 0.562, 'epoch': 1.0}\n"
     ]
    },
    {
     "name": "stderr",
     "output_type": "stream",
     "text": [
      "IOStream.flush timed out\n",
      " 56%|█████▋    | 500/888 [28:45<19:55,  3.08s/it]  "
     ]
    },
    {
     "name": "stdout",
     "output_type": "stream",
     "text": [
      "{'loss': 0.2725, 'learning_rate': 8.738738738738739e-06, 'epoch': 1.69}\n"
     ]
    },
    {
     "name": "stderr",
     "output_type": "stream",
     "text": [
      " 67%|██████▋   | 592/888 [33:30<12:59,  2.64s/it]\n",
      "  0%|          | 0/37 [00:00<?, ?it/s]\u001b[A\n",
      "  5%|▌         | 2/37 [00:01<00:31,  1.12it/s]\u001b[A\n",
      "  8%|▊         | 3/37 [00:03<00:43,  1.27s/it]\u001b[A\n",
      " 11%|█         | 4/37 [00:05<00:48,  1.46s/it]\u001b[A\n",
      " 14%|█▎        | 5/37 [00:07<00:50,  1.56s/it]\u001b[A\n",
      " 16%|█▌        | 6/37 [00:08<00:50,  1.64s/it]\u001b[A\n",
      " 19%|█▉        | 7/37 [00:10<00:50,  1.69s/it]\u001b[A\n",
      " 22%|██▏       | 8/37 [00:12<00:50,  1.72s/it]\u001b[A\n",
      " 24%|██▍       | 9/37 [00:14<00:48,  1.74s/it]\u001b[A\n",
      " 27%|██▋       | 10/37 [00:16<00:47,  1.75s/it]\u001b[A\n",
      " 30%|██▉       | 11/37 [00:17<00:45,  1.76s/it]\u001b[A\n",
      " 32%|███▏      | 12/37 [00:19<00:44,  1.76s/it]\u001b[A\n",
      " 35%|███▌      | 13/37 [00:21<00:42,  1.77s/it]\u001b[A\n",
      " 38%|███▊      | 14/37 [00:23<00:40,  1.77s/it]\u001b[A\n",
      " 41%|████      | 15/37 [00:24<00:39,  1.78s/it]\u001b[A\n",
      " 43%|████▎     | 16/37 [00:26<00:37,  1.79s/it]\u001b[A\n",
      " 46%|████▌     | 17/37 [00:28<00:35,  1.79s/it]\u001b[A\n",
      " 49%|████▊     | 18/37 [00:30<00:33,  1.79s/it]\u001b[A\n",
      " 51%|█████▏    | 19/37 [00:32<00:32,  1.78s/it]\u001b[A\n",
      " 54%|█████▍    | 20/37 [00:33<00:30,  1.78s/it]\u001b[A\n",
      " 57%|█████▋    | 21/37 [00:35<00:28,  1.78s/it]\u001b[A\n",
      " 59%|█████▉    | 22/37 [00:37<00:26,  1.77s/it]\u001b[A\n",
      " 62%|██████▏   | 23/37 [00:39<00:24,  1.77s/it]\u001b[A\n",
      " 65%|██████▍   | 24/37 [00:41<00:23,  1.79s/it]\u001b[A\n",
      " 68%|██████▊   | 25/37 [00:42<00:21,  1.78s/it]\u001b[A\n",
      " 70%|███████   | 26/37 [00:44<00:19,  1.78s/it]\u001b[A\n",
      " 73%|███████▎  | 27/37 [00:46<00:17,  1.79s/it]\u001b[A\n",
      " 76%|███████▌  | 28/37 [00:48<00:16,  1.79s/it]\u001b[A\n",
      " 78%|███████▊  | 29/37 [00:49<00:14,  1.79s/it]\u001b[A\n",
      " 81%|████████  | 30/37 [00:51<00:12,  1.78s/it]\u001b[A\n",
      " 84%|████████▍ | 31/37 [00:53<00:10,  1.80s/it]\u001b[A\n",
      " 86%|████████▋ | 32/37 [00:55<00:08,  1.80s/it]\u001b[A\n",
      " 89%|████████▉ | 33/37 [00:57<00:07,  1.80s/it]\u001b[A\n",
      " 92%|█████████▏| 34/37 [00:58<00:05,  1.80s/it]\u001b[A\n",
      " 95%|█████████▍| 35/37 [01:00<00:03,  1.80s/it]\u001b[A\n",
      " 97%|█████████▋| 36/37 [01:02<00:01,  1.80s/it]\u001b[A\n",
      "                                                 A\n",
      " 67%|██████▋   | 592/888 [34:36<12:59,  2.64s/it]\n",
      "100%|██████████| 37/37 [01:04<00:00,  1.76s/it]\u001b[A\n",
      "                                               \u001b[A"
     ]
    },
    {
     "name": "stdout",
     "output_type": "stream",
     "text": [
      "{'eval_loss': 0.20923753082752228, 'eval_accuracy': 0.8976311336717429, 'eval_f1': 0.903585657370518, 'eval_runtime': 66.023, 'eval_samples_per_second': 17.903, 'eval_steps_per_second': 0.56, 'epoch': 2.0}\n"
     ]
    },
    {
     "name": "stderr",
     "output_type": "stream",
     "text": [
      "100%|██████████| 888/888 [50:59<00:00,  2.62s/it]  \n",
      "  0%|          | 0/37 [00:00<?, ?it/s]\u001b[A\n",
      "  5%|▌         | 2/37 [00:01<00:31,  1.12it/s]\u001b[A\n",
      "  8%|▊         | 3/37 [00:03<00:42,  1.26s/it]\u001b[A\n",
      " 11%|█         | 4/37 [00:05<00:48,  1.46s/it]\u001b[A\n",
      " 14%|█▎        | 5/37 [00:07<00:50,  1.58s/it]\u001b[A\n",
      " 16%|█▌        | 6/37 [00:08<00:51,  1.66s/it]\u001b[A\n",
      " 19%|█▉        | 7/37 [00:10<00:50,  1.70s/it]\u001b[A\n",
      " 22%|██▏       | 8/37 [00:12<00:50,  1.72s/it]\u001b[A\n",
      " 24%|██▍       | 9/37 [00:14<00:48,  1.75s/it]\u001b[A\n",
      " 27%|██▋       | 10/37 [00:16<00:47,  1.76s/it]\u001b[A\n",
      " 30%|██▉       | 11/37 [00:17<00:45,  1.77s/it]\u001b[A\n",
      " 32%|███▏      | 12/37 [00:19<00:44,  1.78s/it]\u001b[A\n",
      " 35%|███▌      | 13/37 [00:21<00:42,  1.78s/it]\u001b[A\n",
      " 38%|███▊      | 14/37 [00:23<00:41,  1.79s/it]\u001b[A\n",
      " 41%|████      | 15/37 [00:25<00:39,  1.80s/it]\u001b[A\n",
      " 43%|████▎     | 16/37 [00:26<00:37,  1.80s/it]\u001b[A\n",
      " 46%|████▌     | 17/37 [00:28<00:35,  1.80s/it]\u001b[A\n",
      " 49%|████▊     | 18/37 [00:30<00:34,  1.80s/it]\u001b[A\n",
      " 51%|█████▏    | 19/37 [00:32<00:32,  1.79s/it]\u001b[A\n",
      " 54%|█████▍    | 20/37 [00:34<00:30,  1.79s/it]\u001b[A\n",
      " 57%|█████▋    | 21/37 [00:35<00:28,  1.79s/it]\u001b[A\n",
      " 59%|█████▉    | 22/37 [00:37<00:26,  1.79s/it]\u001b[A\n",
      " 62%|██████▏   | 23/37 [00:39<00:25,  1.79s/it]\u001b[A\n",
      " 65%|██████▍   | 24/37 [00:41<00:23,  1.79s/it]\u001b[A\n",
      " 68%|██████▊   | 25/37 [00:43<00:21,  1.79s/it]\u001b[A\n",
      " 70%|███████   | 26/37 [00:44<00:19,  1.79s/it]\u001b[A\n",
      " 73%|███████▎  | 27/37 [00:46<00:17,  1.79s/it]\u001b[A\n",
      " 76%|███████▌  | 28/37 [00:48<00:16,  1.79s/it]\u001b[A\n",
      " 78%|███████▊  | 29/37 [00:50<00:14,  1.78s/it]\u001b[A\n",
      " 81%|████████  | 30/37 [00:51<00:12,  1.78s/it]\u001b[A\n",
      " 84%|████████▍ | 31/37 [00:53<00:10,  1.78s/it]\u001b[A\n",
      " 86%|████████▋ | 32/37 [00:55<00:08,  1.79s/it]\u001b[A\n",
      " 89%|████████▉ | 33/37 [00:57<00:07,  1.79s/it]\u001b[A\n",
      " 92%|█████████▏| 34/37 [00:59<00:05,  1.79s/it]\u001b[A\n",
      " 95%|█████████▍| 35/37 [01:00<00:03,  1.79s/it]\u001b[A\n",
      " 97%|█████████▋| 36/37 [01:02<00:01,  1.79s/it]\u001b[A\n",
      "                                                 A\n",
      "100%|██████████| 888/888 [52:05<00:00,  2.62s/it]\n",
      "100%|██████████| 37/37 [01:04<00:00,  1.75s/it]\u001b[A\n",
      "                                               \u001b[A"
     ]
    },
    {
     "name": "stdout",
     "output_type": "stream",
     "text": [
      "{'eval_loss': 0.17834195494651794, 'eval_accuracy': 0.9094754653130288, 'eval_f1': 0.9119341563786008, 'eval_runtime': 66.1342, 'eval_samples_per_second': 17.873, 'eval_steps_per_second': 0.559, 'epoch': 3.0}\n"
     ]
    },
    {
     "name": "stderr",
     "output_type": "stream",
     "text": [
      "100%|██████████| 888/888 [53:10<00:00,  3.59s/it]"
     ]
    },
    {
     "name": "stdout",
     "output_type": "stream",
     "text": [
      "{'train_runtime': 3190.0962, 'train_samples_per_second': 4.445, 'train_steps_per_second': 0.278, 'train_loss': 0.23353415136938696, 'epoch': 3.0}\n"
     ]
    },
    {
     "name": "stderr",
     "output_type": "stream",
     "text": [
      "\n"
     ]
    },
    {
     "data": {
      "text/plain": [
       "TrainOutput(global_step=888, training_loss=0.23353415136938696, metrics={'train_runtime': 3190.0962, 'train_samples_per_second': 4.445, 'train_steps_per_second': 0.278, 'train_loss': 0.23353415136938696, 'epoch': 3.0})"
      ]
     },
     "execution_count": 14,
     "metadata": {},
     "output_type": "execute_result"
    }
   ],
   "source": [
    "# 8. Trainer\n",
    "trainer = Trainer(\n",
    "    model=model,\n",
    "    args=training_args,\n",
    "    train_dataset=train_dataset,\n",
    "    eval_dataset=valid_dataset,\n",
    "    tokenizer=tokenizer,\n",
    "    data_collator=data_collator,\n",
    "    compute_metrics=lambda p: {\n",
    "        \"accuracy\": accuracy_score(p.label_ids, p.predictions.argmax(axis=1)),\n",
    "        \"f1\": f1_score(p.label_ids, p.predictions.argmax(axis=1)),\n",
    "    }\n",
    ")\n",
    "# 9. Обучение\n",
    "trainer.train()"
   ]
  },
  {
   "cell_type": "code",
   "execution_count": 15,
   "id": "d4f06ad0-cc61-4c68-9b52-a924d334a76e",
   "metadata": {
    "execution": {
     "iopub.execute_input": "2025-04-07T14:33:13.655286Z",
     "iopub.status.busy": "2025-04-07T14:33:13.654338Z",
     "iopub.status.idle": "2025-04-07T14:34:19.625541Z",
     "shell.execute_reply": "2025-04-07T14:34:19.624700Z",
     "shell.execute_reply.started": "2025-04-07T14:33:13.655238Z"
    },
    "tags": []
   },
   "outputs": [
    {
     "name": "stderr",
     "output_type": "stream",
     "text": [
      "100%|██████████| 37/37 [01:04<00:00,  1.73s/it]\n"
     ]
    }
   ],
   "source": [
    "# 10. Предсказания и метрики\n",
    "preds = trainer.predict(valid_dataset)\n",
    "y_pred = preds.predictions.argmax(axis=1)\n",
    "y_true = preds.label_ids"
   ]
  },
  {
   "cell_type": "code",
   "execution_count": 16,
   "id": "3ad02fae-7c7c-40fd-a9d6-a97baa6f0526",
   "metadata": {
    "execution": {
     "iopub.execute_input": "2025-04-07T14:34:19.628072Z",
     "iopub.status.busy": "2025-04-07T14:34:19.626993Z",
     "iopub.status.idle": "2025-04-07T14:34:19.645555Z",
     "shell.execute_reply": "2025-04-07T14:34:19.644728Z",
     "shell.execute_reply.started": "2025-04-07T14:34:19.628024Z"
    },
    "tags": []
   },
   "outputs": [
    {
     "name": "stdout",
     "output_type": "stream",
     "text": [
      "Accuracy: 0.9094754653130288\n",
      "F1 Score: 0.9119341563786008\n",
      "Confusion Matrix:\n",
      " [[521  65]\n",
      " [ 42 554]]\n"
     ]
    }
   ],
   "source": [
    "acc = accuracy_score(y_true, y_pred)\n",
    "f1 = f1_score(y_true, y_pred)\n",
    "cm = confusion_matrix(y_true, y_pred)\n",
    "\n",
    "print(\"Accuracy:\", acc)\n",
    "print(\"F1 Score:\", f1)\n",
    "print(\"Confusion Matrix:\\n\", cm)"
   ]
  },
  {
   "cell_type": "code",
   "execution_count": 17,
   "id": "559514f0-0163-4822-8077-f483adcc8735",
   "metadata": {
    "execution": {
     "iopub.execute_input": "2025-04-07T14:34:19.647445Z",
     "iopub.status.busy": "2025-04-07T14:34:19.646527Z",
     "iopub.status.idle": "2025-04-07T14:34:42.345022Z",
     "shell.execute_reply": "2025-04-07T14:34:42.344164Z",
     "shell.execute_reply.started": "2025-04-07T14:34:19.647405Z"
    },
    "tags": []
   },
   "outputs": [
    {
     "data": {
      "text/plain": [
       "('./results/best_model/tokenizer_config.json',\n",
       " './results/best_model/special_tokens_map.json',\n",
       " './results/best_model/vocab.json',\n",
       " './results/best_model/merges.txt',\n",
       " './results/best_model/added_tokens.json',\n",
       " './results/best_model/tokenizer.json')"
      ]
     },
     "execution_count": 17,
     "metadata": {},
     "output_type": "execute_result"
    }
   ],
   "source": [
    "trainer.save_model(\"./results/best_model\")\n",
    "tokenizer.save_pretrained(\"./results/best_model\")"
   ]
  },
  {
   "cell_type": "markdown",
   "id": "080d1303-ce70-463e-8241-887f08808c77",
   "metadata": {},
   "source": [
    "### 2. MLM "
   ]
  },
  {
   "cell_type": "code",
   "execution_count": 2,
   "id": "350bd768-2a87-468f-a75a-3d7f619c6b09",
   "metadata": {
    "execution": {
     "iopub.execute_input": "2025-04-07T16:57:04.474840Z",
     "iopub.status.busy": "2025-04-07T16:57:04.473781Z",
     "iopub.status.idle": "2025-04-07T16:57:04.517615Z",
     "shell.execute_reply": "2025-04-07T16:57:04.516617Z",
     "shell.execute_reply.started": "2025-04-07T16:57:04.474799Z"
    },
    "tags": []
   },
   "outputs": [],
   "source": [
    "# pip install transformers datasets accelerate"
   ]
  },
  {
   "cell_type": "code",
   "execution_count": 1,
   "id": "4831f0a9-a43b-4ae9-b0b6-302d8d3b1bc7",
   "metadata": {
    "execution": {
     "iopub.execute_input": "2025-04-07T17:38:17.282540Z",
     "iopub.status.busy": "2025-04-07T17:38:17.281617Z",
     "iopub.status.idle": "2025-04-07T17:38:23.367525Z",
     "shell.execute_reply": "2025-04-07T17:38:23.366698Z",
     "shell.execute_reply.started": "2025-04-07T17:38:17.282504Z"
    },
    "tags": []
   },
   "outputs": [
    {
     "name": "stderr",
     "output_type": "stream",
     "text": [
      "/home/jupyter/.local/lib/python3.10/site-packages/transformers/utils/hub.py:123: FutureWarning: Using `TRANSFORMERS_CACHE` is deprecated and will be removed in v5 of Transformers. Use `HF_HOME` instead.\n",
      "  warnings.warn(\n",
      "/usr/local/lib/python3.10/dist-packages/torch/cuda/__init__.py:546: UserWarning: Can't initialize NVML\n",
      "  warnings.warn(\"Can't initialize NVML\")\n",
      "2025-04-07 17:38:22.073663: W tensorflow/compiler/tf2tensorrt/utils/py_utils.cc:38] TF-TRT Warning: Could not find TensorRT\n"
     ]
    }
   ],
   "source": [
    "import nltk\n",
    "import math\n",
    "import torch\n",
    "import os\n",
    "from transformers import (\n",
    "    RobertaTokenizerFast,\n",
    "    RobertaForMaskedLM,\n",
    "    DataCollatorForLanguageModeling,\n",
    "    Trainer,\n",
    "    TrainingArguments,\n",
    ")\n",
    "from datasets import load_dataset, Dataset"
   ]
  },
  {
   "cell_type": "code",
   "execution_count": 2,
   "id": "4b07e1a6-f2c8-4079-a96f-a745baa3ba41",
   "metadata": {
    "execution": {
     "iopub.execute_input": "2025-04-07T17:38:23.371047Z",
     "iopub.status.busy": "2025-04-07T17:38:23.369282Z",
     "iopub.status.idle": "2025-04-07T17:38:23.852160Z",
     "shell.execute_reply": "2025-04-07T17:38:23.851305Z",
     "shell.execute_reply.started": "2025-04-07T17:38:23.371005Z"
    },
    "tags": []
   },
   "outputs": [
    {
     "name": "stderr",
     "output_type": "stream",
     "text": [
      "Some weights of RobertaForMaskedLM were not initialized from the model checkpoint at results/best_model and are newly initialized: ['lm_head.bias', 'lm_head.layer_norm.bias', 'lm_head.dense.weight', 'lm_head.decoder.bias', 'lm_head.dense.bias', 'lm_head.layer_norm.weight']\n",
      "You should probably TRAIN this model on a down-stream task to be able to use it for predictions and inference.\n"
     ]
    }
   ],
   "source": [
    "model_checkpoint  = \"results/best_model\"\n",
    "model  = RobertaForMaskedLM.from_pretrained(model_checkpoint)\n",
    "tokenizer = RobertaTokenizerFast.from_pretrained(model_checkpoint)"
   ]
  },
  {
   "cell_type": "code",
   "execution_count": 3,
   "id": "e4d18d1e-4d60-4683-8dc3-57769f076051",
   "metadata": {
    "execution": {
     "iopub.execute_input": "2025-04-07T17:38:23.854503Z",
     "iopub.status.busy": "2025-04-07T17:38:23.853286Z",
     "iopub.status.idle": "2025-04-07T17:38:23.867826Z",
     "shell.execute_reply": "2025-04-07T17:38:23.867066Z",
     "shell.execute_reply.started": "2025-04-07T17:38:23.854471Z"
    },
    "tags": []
   },
   "outputs": [
    {
     "data": {
      "text/plain": [
       "RobertaForMaskedLM(\n",
       "  (roberta): RobertaModel(\n",
       "    (embeddings): RobertaEmbeddings(\n",
       "      (word_embeddings): Embedding(50265, 768, padding_idx=1)\n",
       "      (position_embeddings): Embedding(514, 768, padding_idx=1)\n",
       "      (token_type_embeddings): Embedding(1, 768)\n",
       "      (LayerNorm): LayerNorm((768,), eps=1e-05, elementwise_affine=True)\n",
       "      (dropout): Dropout(p=0.1, inplace=False)\n",
       "    )\n",
       "    (encoder): RobertaEncoder(\n",
       "      (layer): ModuleList(\n",
       "        (0-5): 6 x RobertaLayer(\n",
       "          (attention): RobertaAttention(\n",
       "            (self): RobertaSelfAttention(\n",
       "              (query): Linear(in_features=768, out_features=768, bias=True)\n",
       "              (key): Linear(in_features=768, out_features=768, bias=True)\n",
       "              (value): Linear(in_features=768, out_features=768, bias=True)\n",
       "              (dropout): Dropout(p=0.1, inplace=False)\n",
       "            )\n",
       "            (output): RobertaSelfOutput(\n",
       "              (dense): Linear(in_features=768, out_features=768, bias=True)\n",
       "              (LayerNorm): LayerNorm((768,), eps=1e-05, elementwise_affine=True)\n",
       "              (dropout): Dropout(p=0.1, inplace=False)\n",
       "            )\n",
       "          )\n",
       "          (intermediate): RobertaIntermediate(\n",
       "            (dense): Linear(in_features=768, out_features=3072, bias=True)\n",
       "            (intermediate_act_fn): GELUActivation()\n",
       "          )\n",
       "          (output): RobertaOutput(\n",
       "            (dense): Linear(in_features=3072, out_features=768, bias=True)\n",
       "            (LayerNorm): LayerNorm((768,), eps=1e-05, elementwise_affine=True)\n",
       "            (dropout): Dropout(p=0.1, inplace=False)\n",
       "          )\n",
       "        )\n",
       "      )\n",
       "    )\n",
       "  )\n",
       "  (lm_head): RobertaLMHead(\n",
       "    (dense): Linear(in_features=768, out_features=768, bias=True)\n",
       "    (layer_norm): LayerNorm((768,), eps=1e-05, elementwise_affine=True)\n",
       "    (decoder): Linear(in_features=768, out_features=50265, bias=True)\n",
       "  )\n",
       ")"
      ]
     },
     "execution_count": 3,
     "metadata": {},
     "output_type": "execute_result"
    }
   ],
   "source": [
    "model.eval()"
   ]
  },
  {
   "cell_type": "markdown",
   "id": "88429665-c421-4c97-9490-2784fcfb0003",
   "metadata": {},
   "source": [
    "### создаем датасет"
   ]
  },
  {
   "cell_type": "code",
   "execution_count": 5,
   "id": "d7a7c0f3-b95f-47eb-87a0-3c367d51ae73",
   "metadata": {
    "execution": {
     "iopub.execute_input": "2025-04-07T17:30:03.425515Z",
     "iopub.status.busy": "2025-04-07T17:30:03.424596Z",
     "iopub.status.idle": "2025-04-07T17:30:03.441055Z",
     "shell.execute_reply": "2025-04-07T17:30:03.440239Z",
     "shell.execute_reply.started": "2025-04-07T17:30:03.425478Z"
    },
    "tags": []
   },
   "outputs": [],
   "source": [
    "# nltk.download(\"punkt\")"
   ]
  },
  {
   "cell_type": "code",
   "execution_count": 4,
   "id": "4cded2d2-60af-43a4-9c60-fb5afc9fe183",
   "metadata": {
    "execution": {
     "iopub.execute_input": "2025-04-07T17:38:26.834925Z",
     "iopub.status.busy": "2025-04-07T17:38:26.833883Z",
     "iopub.status.idle": "2025-04-07T17:38:26.866027Z",
     "shell.execute_reply": "2025-04-07T17:38:26.865164Z",
     "shell.execute_reply.started": "2025-04-07T17:38:26.834877Z"
    },
    "tags": []
   },
   "outputs": [],
   "source": [
    "with open(\"data/train-test.txt\"  , \"r\", encoding=\"utf-8\") as f:\n",
    "    text = f.read()"
   ]
  },
  {
   "cell_type": "code",
   "execution_count": 5,
   "id": "e6528def-3fbc-4157-a398-ff3072d3cd9e",
   "metadata": {
    "execution": {
     "iopub.execute_input": "2025-04-07T17:38:32.031626Z",
     "iopub.status.busy": "2025-04-07T17:38:32.030448Z",
     "iopub.status.idle": "2025-04-07T17:38:32.739468Z",
     "shell.execute_reply": "2025-04-07T17:38:32.738513Z",
     "shell.execute_reply.started": "2025-04-07T17:38:32.031575Z"
    },
    "tags": []
   },
   "outputs": [],
   "source": [
    "sentences = nltk.sent_tokenize(text)\n",
    "dataset = Dataset.from_dict({\"text\": sentences})"
   ]
  },
  {
   "cell_type": "code",
   "execution_count": 6,
   "id": "b48c7c3f-8b6f-4a6f-bd92-6e979e24331e",
   "metadata": {
    "execution": {
     "iopub.execute_input": "2025-04-07T17:38:32.864110Z",
     "iopub.status.busy": "2025-04-07T17:38:32.862976Z",
     "iopub.status.idle": "2025-04-07T17:38:34.632450Z",
     "shell.execute_reply": "2025-04-07T17:38:34.631557Z",
     "shell.execute_reply.started": "2025-04-07T17:38:32.864065Z"
    },
    "tags": []
   },
   "outputs": [
    {
     "name": "stderr",
     "output_type": "stream",
     "text": [
      "Map (num_proc=8): 100%|██████████| 29347/29347 [00:01<00:00, 19681.74 examples/s]\n"
     ]
    }
   ],
   "source": [
    "def tokenize_function(examples):\n",
    "    return tokenizer(examples[\"text\"], truncation=True, padding=False)\n",
    "\n",
    "tokenized = dataset.map(tokenize_function, batched=True, num_proc=8, remove_columns=[\"text\"])"
   ]
  },
  {
   "cell_type": "code",
   "execution_count": 7,
   "id": "108d1b3a-cbe9-4bb4-a8b8-6ebdb1a19ea0",
   "metadata": {
    "execution": {
     "iopub.execute_input": "2025-04-07T17:38:34.635104Z",
     "iopub.status.busy": "2025-04-07T17:38:34.634350Z",
     "iopub.status.idle": "2025-04-07T17:38:36.617590Z",
     "shell.execute_reply": "2025-04-07T17:38:36.616535Z",
     "shell.execute_reply.started": "2025-04-07T17:38:34.635056Z"
    },
    "tags": []
   },
   "outputs": [
    {
     "name": "stderr",
     "output_type": "stream",
     "text": [
      "Map (num_proc=8): 100%|██████████| 29347/29347 [00:01<00:00, 16931.81 examples/s]\n"
     ]
    }
   ],
   "source": [
    "block_size=128\n",
    "def group_texts(examples):\n",
    "    concatenated = sum(examples[\"input_ids\"], [])\n",
    "    total_length = (len(concatenated) // block_size) * block_size\n",
    "    result = {\n",
    "        \"input_ids\": [concatenated[i : i + block_size] for i in range(0, total_length, block_size)],\n",
    "    }\n",
    "    result[\"attention_mask\"] = [[1] * block_size] * len(result[\"input_ids\"])\n",
    "    return result\n",
    "\n",
    "lm_datasets = tokenized.map(group_texts, batched=True, num_proc=8)"
   ]
  },
  {
   "cell_type": "code",
   "execution_count": 8,
   "id": "353d47d3-0c9b-4885-88ba-eb6408987df3",
   "metadata": {
    "execution": {
     "iopub.execute_input": "2025-04-07T17:38:36.620228Z",
     "iopub.status.busy": "2025-04-07T17:38:36.619296Z",
     "iopub.status.idle": "2025-04-07T17:38:36.648290Z",
     "shell.execute_reply": "2025-04-07T17:38:36.647597Z",
     "shell.execute_reply.started": "2025-04-07T17:38:36.620186Z"
    },
    "tags": []
   },
   "outputs": [],
   "source": [
    "split = lm_datasets.train_test_split(test_size=0.1)\n",
    "train_dataset = split[\"train\"]\n",
    "eval_dataset = split[\"test\"]"
   ]
  },
  {
   "cell_type": "code",
   "execution_count": 9,
   "id": "8ab9cfe2-d3c9-45cc-9954-658adced9cc6",
   "metadata": {
    "execution": {
     "iopub.execute_input": "2025-04-07T17:38:37.034349Z",
     "iopub.status.busy": "2025-04-07T17:38:37.033270Z",
     "iopub.status.idle": "2025-04-07T17:38:37.051058Z",
     "shell.execute_reply": "2025-04-07T17:38:37.050263Z",
     "shell.execute_reply.started": "2025-04-07T17:38:37.034313Z"
    },
    "tags": []
   },
   "outputs": [],
   "source": [
    "data_collator = DataCollatorForLanguageModeling(tokenizer=tokenizer, mlm=True, mlm_probability=0.15)"
   ]
  },
  {
   "cell_type": "code",
   "execution_count": 10,
   "id": "02a19421-aa16-4bc6-ba02-d1d837410e6c",
   "metadata": {
    "execution": {
     "iopub.execute_input": "2025-04-07T17:38:39.069866Z",
     "iopub.status.busy": "2025-04-07T17:38:39.068431Z",
     "iopub.status.idle": "2025-04-07T17:38:39.107213Z",
     "shell.execute_reply": "2025-04-07T17:38:39.106379Z",
     "shell.execute_reply.started": "2025-04-07T17:38:39.069817Z"
    },
    "tags": []
   },
   "outputs": [
    {
     "name": "stderr",
     "output_type": "stream",
     "text": [
      "Detected kernel version 5.4.0, which is below the recommended minimum of 5.5.0; this can cause the process to hang. It is recommended to upgrade the kernel to the minimum version or higher.\n"
     ]
    }
   ],
   "source": [
    "training_args = TrainingArguments(\n",
    "    output_dir=\"mlm-results\",\n",
    "    evaluation_strategy=\"epoch\",\n",
    "    per_device_train_batch_size=16,\n",
    "    per_device_eval_batch_size=16,\n",
    "    num_train_epochs=3,\n",
    "    save_steps=500,\n",
    "    save_total_limit=2,\n",
    "    logging_steps=100,\n",
    ")\n",
    "\n",
    "trainer = Trainer(\n",
    "    model=model,\n",
    "    args=training_args,\n",
    "    train_dataset=train_dataset,\n",
    "    eval_dataset=eval_dataset,\n",
    "    tokenizer=tokenizer,\n",
    "    data_collator=data_collator,\n",
    ")"
   ]
  },
  {
   "cell_type": "markdown",
   "id": "3213530e-6f45-40f3-b27f-f4f3cfa2a141",
   "metadata": {},
   "source": [
    "#### метрики "
   ]
  },
  {
   "cell_type": "code",
   "execution_count": 11,
   "id": "3f7e4957-133f-48c4-94bb-19898c99432d",
   "metadata": {
    "execution": {
     "iopub.execute_input": "2025-04-07T17:40:15.066833Z",
     "iopub.status.busy": "2025-04-07T17:40:15.065229Z",
     "iopub.status.idle": "2025-04-07T17:42:33.186022Z",
     "shell.execute_reply": "2025-04-07T17:42:33.185158Z",
     "shell.execute_reply.started": "2025-04-07T17:40:15.066780Z"
    },
    "tags": []
   },
   "outputs": [
    {
     "name": "stderr",
     "output_type": "stream",
     "text": [
      "You're using a RobertaTokenizerFast tokenizer. Please note that with a fast tokenizer, using the `__call__` method is faster than using a method to encode the text followed by a call to the `pad` method to get a padded encoding.\n",
      "100%|██████████| 134/134 [02:16<00:00,  1.02s/it]"
     ]
    },
    {
     "name": "stdout",
     "output_type": "stream",
     "text": [
      "Before training: Loss = 17.5383, Perplexity = 41378615.23\n"
     ]
    },
    {
     "name": "stderr",
     "output_type": "stream",
     "text": [
      "\n"
     ]
    }
   ],
   "source": [
    "eval_loss_before = trainer.evaluate(eval_dataset=eval_dataset).get(\"eval_loss\")\n",
    "perplexity_before = math.exp(eval_loss_before) if eval_loss_before else None\n",
    "print(f\"Before training: Loss = {eval_loss_before:.4f}, Perplexity = {perplexity_before:.2f}\")\n"
   ]
  },
  {
   "cell_type": "code",
   "execution_count": 12,
   "id": "3aec9b97-6fdc-4eb2-9d07-efccb4d4c2f9",
   "metadata": {
    "execution": {
     "iopub.execute_input": "2025-04-07T17:42:33.188828Z",
     "iopub.status.busy": "2025-04-07T17:42:33.187684Z",
     "iopub.status.idle": "2025-04-07T21:03:03.495374Z",
     "shell.execute_reply": "2025-04-07T21:03:03.494583Z",
     "shell.execute_reply.started": "2025-04-07T17:42:33.188794Z"
    },
    "tags": []
   },
   "outputs": [
    {
     "name": "stderr",
     "output_type": "stream",
     "text": [
      "  3%|▎         | 100/3600 [05:11<3:01:05,  3.10s/it]"
     ]
    },
    {
     "name": "stdout",
     "output_type": "stream",
     "text": [
      "{'loss': 2.583, 'learning_rate': 4.8611111111111115e-05, 'epoch': 0.08}\n"
     ]
    },
    {
     "name": "stderr",
     "output_type": "stream",
     "text": [
      "  6%|▌         | 200/3600 [10:23<2:55:39,  3.10s/it]"
     ]
    },
    {
     "name": "stdout",
     "output_type": "stream",
     "text": [
      "{'loss': 1.5792, 'learning_rate': 4.722222222222222e-05, 'epoch': 0.17}\n"
     ]
    },
    {
     "name": "stderr",
     "output_type": "stream",
     "text": [
      "  8%|▊         | 300/3600 [15:34<2:52:36,  3.14s/it]"
     ]
    },
    {
     "name": "stdout",
     "output_type": "stream",
     "text": [
      "{'loss': 1.4478, 'learning_rate': 4.5833333333333334e-05, 'epoch': 0.25}\n"
     ]
    },
    {
     "name": "stderr",
     "output_type": "stream",
     "text": [
      " 11%|█         | 400/3600 [20:50<2:47:56,  3.15s/it]"
     ]
    },
    {
     "name": "stdout",
     "output_type": "stream",
     "text": [
      "{'loss': 1.3467, 'learning_rate': 4.4444444444444447e-05, 'epoch': 0.33}\n"
     ]
    },
    {
     "name": "stderr",
     "output_type": "stream",
     "text": [
      " 14%|█▍        | 500/3600 [26:05<2:43:41,  3.17s/it]"
     ]
    },
    {
     "name": "stdout",
     "output_type": "stream",
     "text": [
      "{'loss': 1.2991, 'learning_rate': 4.305555555555556e-05, 'epoch': 0.42}\n"
     ]
    },
    {
     "name": "stderr",
     "output_type": "stream",
     "text": [
      " 17%|█▋        | 600/3600 [32:23<2:35:38,  3.11s/it] "
     ]
    },
    {
     "name": "stdout",
     "output_type": "stream",
     "text": [
      "{'loss': 1.2248, 'learning_rate': 4.166666666666667e-05, 'epoch': 0.5}\n"
     ]
    },
    {
     "name": "stderr",
     "output_type": "stream",
     "text": [
      " 19%|█▉        | 700/3600 [37:36<2:31:05,  3.13s/it]"
     ]
    },
    {
     "name": "stdout",
     "output_type": "stream",
     "text": [
      "{'loss': 1.2058, 'learning_rate': 4.027777777777778e-05, 'epoch': 0.58}\n"
     ]
    },
    {
     "name": "stderr",
     "output_type": "stream",
     "text": [
      " 22%|██▏       | 800/3600 [42:48<2:24:53,  3.10s/it]"
     ]
    },
    {
     "name": "stdout",
     "output_type": "stream",
     "text": [
      "{'loss': 1.1656, 'learning_rate': 3.888888888888889e-05, 'epoch': 0.67}\n"
     ]
    },
    {
     "name": "stderr",
     "output_type": "stream",
     "text": [
      " 25%|██▌       | 900/3600 [47:59<2:19:30,  3.10s/it]"
     ]
    },
    {
     "name": "stdout",
     "output_type": "stream",
     "text": [
      "{'loss': 1.1404, 'learning_rate': 3.7500000000000003e-05, 'epoch': 0.75}\n"
     ]
    },
    {
     "name": "stderr",
     "output_type": "stream",
     "text": [
      " 28%|██▊       | 1000/3600 [53:09<2:14:22,  3.10s/it]"
     ]
    },
    {
     "name": "stdout",
     "output_type": "stream",
     "text": [
      "{'loss': 1.1319, 'learning_rate': 3.611111111111111e-05, 'epoch': 0.83}\n"
     ]
    },
    {
     "name": "stderr",
     "output_type": "stream",
     "text": [
      "IOStream.flush timed out\n",
      " 31%|███       | 1100/3600 [59:25<2:08:42,  3.09s/it] "
     ]
    },
    {
     "name": "stdout",
     "output_type": "stream",
     "text": [
      "{'loss': 1.0738, 'learning_rate': 3.472222222222222e-05, 'epoch': 0.92}\n"
     ]
    },
    {
     "name": "stderr",
     "output_type": "stream",
     "text": [
      " 33%|███▎      | 1200/3600 [1:04:33<1:39:14,  2.48s/it]"
     ]
    },
    {
     "name": "stdout",
     "output_type": "stream",
     "text": [
      "{'loss': 1.0604, 'learning_rate': 3.3333333333333335e-05, 'epoch': 1.0}\n"
     ]
    },
    {
     "name": "stderr",
     "output_type": "stream",
     "text": [
      "\n",
      "  0%|          | 0/134 [00:00<?, ?it/s]\u001b[A\n",
      "  1%|▏         | 2/134 [00:00<01:02,  2.11it/s]\u001b[A\n",
      "  2%|▏         | 3/134 [00:01<01:27,  1.50it/s]\u001b[A\n",
      "  3%|▎         | 4/134 [00:02<01:40,  1.30it/s]\u001b[A\n",
      "  4%|▎         | 5/134 [00:03<01:47,  1.20it/s]\u001b[A\n",
      "  4%|▍         | 6/134 [00:04<01:51,  1.15it/s]\u001b[A\n",
      "  5%|▌         | 7/134 [00:05<01:53,  1.12it/s]\u001b[A\n",
      "  6%|▌         | 8/134 [00:06<01:54,  1.10it/s]\u001b[A\n",
      "  7%|▋         | 9/134 [00:07<01:55,  1.09it/s]\u001b[A\n",
      "  7%|▋         | 10/134 [00:08<01:55,  1.08it/s]\u001b[A\n",
      "  8%|▊         | 11/134 [00:09<01:55,  1.07it/s]\u001b[A\n",
      "  9%|▉         | 12/134 [00:10<01:54,  1.07it/s]\u001b[A\n",
      " 10%|▉         | 13/134 [00:11<01:55,  1.05it/s]\u001b[A\n",
      " 10%|█         | 14/134 [00:12<01:54,  1.05it/s]\u001b[A\n",
      " 11%|█         | 15/134 [00:13<01:53,  1.05it/s]\u001b[A\n",
      " 12%|█▏        | 16/134 [00:14<01:51,  1.06it/s]\u001b[A\n",
      " 13%|█▎        | 17/134 [00:15<01:50,  1.06it/s]\u001b[A\n",
      " 13%|█▎        | 18/134 [00:16<01:48,  1.07it/s]\u001b[A\n",
      " 14%|█▍        | 19/134 [00:17<01:47,  1.06it/s]\u001b[A\n",
      " 15%|█▍        | 20/134 [00:17<01:47,  1.06it/s]\u001b[A\n",
      " 16%|█▌        | 21/134 [00:18<01:46,  1.06it/s]\u001b[A\n",
      " 16%|█▋        | 22/134 [00:19<01:45,  1.06it/s]\u001b[A\n",
      " 17%|█▋        | 23/134 [00:20<01:44,  1.07it/s]\u001b[A\n",
      " 18%|█▊        | 24/134 [00:21<01:43,  1.07it/s]\u001b[A\n",
      " 19%|█▊        | 25/134 [00:22<01:42,  1.07it/s]\u001b[A\n",
      " 19%|█▉        | 26/134 [00:23<01:41,  1.06it/s]\u001b[A\n",
      " 20%|██        | 27/134 [00:24<01:40,  1.06it/s]\u001b[A\n",
      " 21%|██        | 28/134 [00:25<01:39,  1.07it/s]\u001b[A\n",
      " 22%|██▏       | 29/134 [00:26<01:38,  1.07it/s]\u001b[A\n",
      " 22%|██▏       | 30/134 [00:27<01:37,  1.07it/s]\u001b[A\n",
      " 23%|██▎       | 31/134 [00:28<01:36,  1.06it/s]\u001b[A\n",
      " 24%|██▍       | 32/134 [00:29<01:35,  1.07it/s]\u001b[A\n",
      " 25%|██▍       | 33/134 [00:30<01:38,  1.02it/s]\u001b[A\n",
      " 25%|██▌       | 34/134 [00:31<01:36,  1.04it/s]\u001b[A\n",
      " 26%|██▌       | 35/134 [00:32<01:34,  1.05it/s]\u001b[A\n",
      " 27%|██▋       | 36/134 [00:33<01:33,  1.05it/s]\u001b[A\n",
      " 28%|██▊       | 37/134 [00:34<01:31,  1.06it/s]\u001b[A\n",
      " 28%|██▊       | 38/134 [00:34<01:30,  1.06it/s]\u001b[A\n",
      " 29%|██▉       | 39/134 [00:35<01:29,  1.06it/s]\u001b[A\n",
      " 30%|██▉       | 40/134 [00:36<01:28,  1.07it/s]\u001b[A\n",
      " 31%|███       | 41/134 [00:37<01:27,  1.07it/s]\u001b[A\n",
      " 31%|███▏      | 42/134 [00:38<01:26,  1.06it/s]\u001b[A\n",
      " 32%|███▏      | 43/134 [00:39<01:25,  1.06it/s]\u001b[A\n",
      " 33%|███▎      | 44/134 [00:40<01:24,  1.07it/s]\u001b[A\n",
      " 34%|███▎      | 45/134 [00:41<01:23,  1.07it/s]\u001b[A\n",
      " 34%|███▍      | 46/134 [00:42<01:22,  1.07it/s]\u001b[A\n",
      " 35%|███▌      | 47/134 [00:43<01:21,  1.07it/s]\u001b[A\n",
      " 36%|███▌      | 48/134 [00:44<01:20,  1.06it/s]\u001b[A\n",
      " 37%|███▋      | 49/134 [00:45<01:20,  1.05it/s]\u001b[A\n",
      " 37%|███▋      | 50/134 [00:46<01:19,  1.06it/s]\u001b[A\n",
      " 38%|███▊      | 51/134 [00:47<01:18,  1.06it/s]\u001b[A\n",
      " 39%|███▉      | 52/134 [00:48<01:17,  1.05it/s]\u001b[A\n",
      " 40%|███▉      | 53/134 [00:49<01:16,  1.06it/s]\u001b[A\n",
      " 40%|████      | 54/134 [00:50<01:15,  1.06it/s]\u001b[A\n",
      " 41%|████      | 55/134 [00:50<01:14,  1.06it/s]\u001b[A\n",
      " 42%|████▏     | 56/134 [00:51<01:13,  1.06it/s]\u001b[A\n",
      " 43%|████▎     | 57/134 [00:52<01:12,  1.06it/s]\u001b[A\n",
      " 43%|████▎     | 58/134 [00:53<01:11,  1.06it/s]\u001b[A\n",
      " 44%|████▍     | 59/134 [00:54<01:10,  1.06it/s]\u001b[A\n",
      " 45%|████▍     | 60/134 [00:55<01:09,  1.06it/s]\u001b[A\n",
      " 46%|████▌     | 61/134 [00:56<01:08,  1.06it/s]\u001b[A\n",
      " 46%|████▋     | 62/134 [00:57<01:07,  1.06it/s]\u001b[A\n",
      " 47%|████▋     | 63/134 [00:58<01:07,  1.06it/s]\u001b[A\n",
      " 48%|████▊     | 64/134 [00:59<01:05,  1.06it/s]\u001b[A\n",
      " 49%|████▊     | 65/134 [01:00<01:04,  1.06it/s]\u001b[A\n",
      " 49%|████▉     | 66/134 [01:01<01:03,  1.07it/s]\u001b[A\n",
      " 50%|█████     | 67/134 [01:02<01:02,  1.06it/s]\u001b[A\n",
      " 51%|█████     | 68/134 [01:03<01:02,  1.06it/s]\u001b[A\n",
      " 51%|█████▏    | 69/134 [01:04<01:01,  1.06it/s]\u001b[A\n",
      " 52%|█████▏    | 70/134 [01:05<01:00,  1.06it/s]\u001b[A\n",
      " 53%|█████▎    | 71/134 [01:06<00:59,  1.06it/s]\u001b[A\n",
      " 54%|█████▎    | 72/134 [01:07<00:58,  1.06it/s]\u001b[A\n",
      " 54%|█████▍    | 73/134 [01:07<00:57,  1.05it/s]\u001b[A\n",
      " 55%|█████▌    | 74/134 [01:08<00:57,  1.05it/s]\u001b[A\n",
      " 56%|█████▌    | 75/134 [01:09<00:55,  1.05it/s]\u001b[A\n",
      " 57%|█████▋    | 76/134 [01:10<00:54,  1.06it/s]\u001b[A\n",
      " 57%|█████▋    | 77/134 [01:11<00:53,  1.06it/s]\u001b[A\n",
      " 58%|█████▊    | 78/134 [01:12<00:52,  1.06it/s]\u001b[A\n",
      " 59%|█████▉    | 79/134 [01:13<00:51,  1.06it/s]\u001b[A\n",
      " 60%|█████▉    | 80/134 [01:14<00:51,  1.06it/s]\u001b[A\n",
      " 60%|██████    | 81/134 [01:15<00:50,  1.06it/s]\u001b[A\n",
      " 61%|██████    | 82/134 [01:16<00:48,  1.06it/s]\u001b[A\n",
      " 62%|██████▏   | 83/134 [01:17<00:47,  1.07it/s]\u001b[A\n",
      " 63%|██████▎   | 84/134 [01:18<00:46,  1.06it/s]\u001b[A\n",
      " 63%|██████▎   | 85/134 [01:19<00:46,  1.06it/s]\u001b[A\n",
      " 64%|██████▍   | 86/134 [01:20<00:45,  1.06it/s]\u001b[A\n",
      " 65%|██████▍   | 87/134 [01:21<00:44,  1.06it/s]\u001b[A\n",
      " 66%|██████▌   | 88/134 [01:22<00:43,  1.06it/s]\u001b[A\n",
      " 66%|██████▋   | 89/134 [01:23<00:42,  1.06it/s]\u001b[A\n",
      " 67%|██████▋   | 90/134 [01:23<00:41,  1.06it/s]\u001b[A\n",
      " 68%|██████▊   | 91/134 [01:24<00:40,  1.06it/s]\u001b[A\n",
      " 69%|██████▊   | 92/134 [01:25<00:39,  1.06it/s]\u001b[A\n",
      " 69%|██████▉   | 93/134 [01:26<00:38,  1.06it/s]\u001b[A\n",
      " 70%|███████   | 94/134 [01:27<00:37,  1.06it/s]\u001b[A\n",
      " 71%|███████   | 95/134 [01:28<00:36,  1.06it/s]\u001b[A\n",
      " 72%|███████▏  | 96/134 [01:29<00:35,  1.07it/s]\u001b[A\n",
      " 72%|███████▏  | 97/134 [01:30<00:34,  1.07it/s]\u001b[A\n",
      " 73%|███████▎  | 98/134 [01:31<00:33,  1.06it/s]\u001b[A\n",
      " 74%|███████▍  | 99/134 [01:32<00:32,  1.06it/s]\u001b[A\n",
      " 75%|███████▍  | 100/134 [01:33<00:31,  1.06it/s]\u001b[A\n",
      " 75%|███████▌  | 101/134 [01:34<00:31,  1.06it/s]\u001b[A\n",
      " 76%|███████▌  | 102/134 [01:35<00:30,  1.06it/s]\u001b[A\n",
      " 77%|███████▋  | 103/134 [01:36<00:29,  1.06it/s]\u001b[A\n",
      " 78%|███████▊  | 104/134 [01:37<00:28,  1.06it/s]\u001b[A\n",
      " 78%|███████▊  | 105/134 [01:38<00:27,  1.06it/s]\u001b[A\n",
      " 79%|███████▉  | 106/134 [01:39<00:26,  1.06it/s]\u001b[A\n",
      " 80%|███████▉  | 107/134 [01:39<00:25,  1.06it/s]\u001b[A\n",
      " 81%|████████  | 108/134 [01:40<00:24,  1.06it/s]\u001b[A\n",
      " 81%|████████▏ | 109/134 [01:41<00:23,  1.06it/s]\u001b[A\n",
      " 82%|████████▏ | 110/134 [01:42<00:22,  1.06it/s]\u001b[A\n",
      " 83%|████████▎ | 111/134 [01:43<00:21,  1.06it/s]\u001b[A\n",
      " 84%|████████▎ | 112/134 [01:44<00:20,  1.06it/s]\u001b[A\n",
      " 84%|████████▍ | 113/134 [01:45<00:19,  1.07it/s]\u001b[A\n",
      " 85%|████████▌ | 114/134 [01:46<00:18,  1.07it/s]\u001b[A\n",
      " 86%|████████▌ | 115/134 [01:47<00:17,  1.07it/s]\u001b[A\n",
      " 87%|████████▋ | 116/134 [01:48<00:16,  1.07it/s]\u001b[A\n",
      " 87%|████████▋ | 117/134 [01:49<00:15,  1.06it/s]\u001b[A\n",
      " 88%|████████▊ | 118/134 [01:50<00:15,  1.06it/s]\u001b[A\n",
      " 89%|████████▉ | 119/134 [01:51<00:14,  1.06it/s]\u001b[A\n",
      " 90%|████████▉ | 120/134 [01:52<00:13,  1.06it/s]\u001b[A\n",
      " 90%|█████████ | 121/134 [01:53<00:12,  1.06it/s]\u001b[A\n",
      " 91%|█████████ | 122/134 [01:54<00:11,  1.06it/s]\u001b[A\n",
      " 92%|█████████▏| 123/134 [01:55<00:10,  1.06it/s]\u001b[A\n",
      " 93%|█████████▎| 124/134 [01:55<00:09,  1.06it/s]\u001b[A\n",
      " 93%|█████████▎| 125/134 [01:56<00:08,  1.06it/s]\u001b[A\n",
      " 94%|█████████▍| 126/134 [01:57<00:07,  1.07it/s]\u001b[A\n",
      " 95%|█████████▍| 127/134 [01:58<00:06,  1.07it/s]\u001b[A\n",
      " 96%|█████████▌| 128/134 [01:59<00:05,  1.07it/s]\u001b[A\n",
      " 96%|█████████▋| 129/134 [02:00<00:04,  1.06it/s]\u001b[A\n",
      " 97%|█████████▋| 130/134 [02:01<00:03,  1.06it/s]\u001b[A\n",
      " 98%|█████████▊| 131/134 [02:02<00:02,  1.07it/s]\u001b[A\n",
      " 99%|█████████▊| 132/134 [02:03<00:01,  1.07it/s]\u001b[A\n",
      " 99%|█████████▉| 133/134 [02:04<00:00,  1.07it/s]\u001b[A\n",
      "                                                       \n",
      " 33%|███▎      | 1200/3600 [1:06:39<1:39:14,  2.48s/it]"
     ]
    },
    {
     "name": "stdout",
     "output_type": "stream",
     "text": [
      "{'eval_loss': 0.9630648493766785, 'eval_runtime': 125.6274, 'eval_samples_per_second': 16.979, 'eval_steps_per_second': 1.067, 'epoch': 1.0}\n"
     ]
    },
    {
     "name": "stderr",
     "output_type": "stream",
     "text": [
      "\n",
      "100%|██████████| 134/134 [02:04<00:00,  1.35it/s]\u001b[A\n",
      " 36%|███▌      | 1300/3600 [1:11:49<1:58:19,  3.09s/it] "
     ]
    },
    {
     "name": "stdout",
     "output_type": "stream",
     "text": [
      "{'loss': 1.0413, 'learning_rate': 3.194444444444444e-05, 'epoch': 1.08}\n"
     ]
    },
    {
     "name": "stderr",
     "output_type": "stream",
     "text": [
      " 39%|███▉      | 1400/3600 [1:16:58<1:53:32,  3.10s/it]"
     ]
    },
    {
     "name": "stdout",
     "output_type": "stream",
     "text": [
      "{'loss': 1.0318, 'learning_rate': 3.055555555555556e-05, 'epoch': 1.17}\n"
     ]
    },
    {
     "name": "stderr",
     "output_type": "stream",
     "text": [
      " 42%|████▏     | 1500/3600 [1:22:08<1:48:09,  3.09s/it]"
     ]
    },
    {
     "name": "stdout",
     "output_type": "stream",
     "text": [
      "{'loss': 1.0152, 'learning_rate': 2.916666666666667e-05, 'epoch': 1.25}\n"
     ]
    },
    {
     "name": "stderr",
     "output_type": "stream",
     "text": [
      " 44%|████▍     | 1600/3600 [1:28:23<1:43:13,  3.10s/it] "
     ]
    },
    {
     "name": "stdout",
     "output_type": "stream",
     "text": [
      "{'loss': 0.9839, 'learning_rate': 2.777777777777778e-05, 'epoch': 1.33}\n"
     ]
    },
    {
     "name": "stderr",
     "output_type": "stream",
     "text": [
      " 47%|████▋     | 1700/3600 [1:33:32<1:38:04,  3.10s/it]"
     ]
    },
    {
     "name": "stdout",
     "output_type": "stream",
     "text": [
      "{'loss': 0.9614, 'learning_rate': 2.6388888888888892e-05, 'epoch': 1.42}\n"
     ]
    },
    {
     "name": "stderr",
     "output_type": "stream",
     "text": [
      " 50%|█████     | 1800/3600 [1:38:42<1:32:56,  3.10s/it]"
     ]
    },
    {
     "name": "stdout",
     "output_type": "stream",
     "text": [
      "{'loss': 0.9782, 'learning_rate': 2.5e-05, 'epoch': 1.5}\n"
     ]
    },
    {
     "name": "stderr",
     "output_type": "stream",
     "text": [
      " 53%|█████▎    | 1900/3600 [1:43:52<1:27:32,  3.09s/it]"
     ]
    },
    {
     "name": "stdout",
     "output_type": "stream",
     "text": [
      "{'loss': 0.9663, 'learning_rate': 2.361111111111111e-05, 'epoch': 1.58}\n"
     ]
    },
    {
     "name": "stderr",
     "output_type": "stream",
     "text": [
      " 56%|█████▌    | 2000/3600 [1:49:02<1:23:12,  3.12s/it]"
     ]
    },
    {
     "name": "stdout",
     "output_type": "stream",
     "text": [
      "{'loss': 0.9679, 'learning_rate': 2.2222222222222223e-05, 'epoch': 1.67}\n"
     ]
    },
    {
     "name": "stderr",
     "output_type": "stream",
     "text": [
      " 58%|█████▊    | 2100/3600 [1:55:19<1:17:45,  3.11s/it] "
     ]
    },
    {
     "name": "stdout",
     "output_type": "stream",
     "text": [
      "{'loss': 0.9208, 'learning_rate': 2.0833333333333336e-05, 'epoch': 1.75}\n"
     ]
    },
    {
     "name": "stderr",
     "output_type": "stream",
     "text": [
      " 61%|██████    | 2200/3600 [2:00:29<1:12:11,  3.09s/it]"
     ]
    },
    {
     "name": "stdout",
     "output_type": "stream",
     "text": [
      "{'loss': 0.9167, 'learning_rate': 1.9444444444444445e-05, 'epoch': 1.83}\n"
     ]
    },
    {
     "name": "stderr",
     "output_type": "stream",
     "text": [
      " 64%|██████▍   | 2300/3600 [2:05:37<1:06:41,  3.08s/it]"
     ]
    },
    {
     "name": "stdout",
     "output_type": "stream",
     "text": [
      "{'loss': 0.913, 'learning_rate': 1.8055555555555555e-05, 'epoch': 1.92}\n"
     ]
    },
    {
     "name": "stderr",
     "output_type": "stream",
     "text": [
      " 67%|██████▋   | 2400/3600 [2:10:45<49:46,  2.49s/it]  "
     ]
    },
    {
     "name": "stdout",
     "output_type": "stream",
     "text": [
      "{'loss': 0.8978, 'learning_rate': 1.6666666666666667e-05, 'epoch': 2.0}\n"
     ]
    },
    {
     "name": "stderr",
     "output_type": "stream",
     "text": [
      "\n",
      "  0%|          | 0/134 [00:00<?, ?it/s]\u001b[A\n",
      "  1%|▏         | 2/134 [00:00<01:01,  2.16it/s]\u001b[A\n",
      "  2%|▏         | 3/134 [00:01<01:26,  1.52it/s]\u001b[A\n",
      "  3%|▎         | 4/134 [00:02<01:38,  1.32it/s]\u001b[A\n",
      "  4%|▎         | 5/134 [00:03<01:45,  1.22it/s]\u001b[A\n",
      "  4%|▍         | 6/134 [00:04<01:49,  1.17it/s]\u001b[A\n",
      "  5%|▌         | 7/134 [00:05<01:51,  1.14it/s]\u001b[A\n",
      "  6%|▌         | 8/134 [00:06<01:53,  1.11it/s]\u001b[A\n",
      "  7%|▋         | 9/134 [00:07<01:53,  1.10it/s]\u001b[A\n",
      "  7%|▋         | 10/134 [00:08<01:53,  1.09it/s]\u001b[A\n",
      "  8%|▊         | 11/134 [00:09<01:53,  1.08it/s]\u001b[A\n",
      "  9%|▉         | 12/134 [00:10<01:53,  1.08it/s]\u001b[A\n",
      " 10%|▉         | 13/134 [00:11<01:52,  1.07it/s]\u001b[A\n",
      " 10%|█         | 14/134 [00:12<01:51,  1.07it/s]\u001b[A\n",
      " 11%|█         | 15/134 [00:13<01:51,  1.07it/s]\u001b[A\n",
      " 12%|█▏        | 16/134 [00:14<01:50,  1.06it/s]\u001b[A\n",
      " 13%|█▎        | 17/134 [00:14<01:49,  1.07it/s]\u001b[A\n",
      " 13%|█▎        | 18/134 [00:15<01:49,  1.06it/s]\u001b[A\n",
      " 14%|█▍        | 19/134 [00:16<01:48,  1.06it/s]\u001b[A\n",
      " 15%|█▍        | 20/134 [00:17<01:47,  1.06it/s]\u001b[A\n",
      " 16%|█▌        | 21/134 [00:18<01:46,  1.07it/s]\u001b[A\n",
      " 16%|█▋        | 22/134 [00:19<01:44,  1.07it/s]\u001b[A\n",
      " 17%|█▋        | 23/134 [00:20<01:43,  1.07it/s]\u001b[A\n",
      " 18%|█▊        | 24/134 [00:21<01:42,  1.07it/s]\u001b[A\n",
      " 19%|█▊        | 25/134 [00:22<01:42,  1.07it/s]\u001b[A\n",
      " 19%|█▉        | 26/134 [00:23<01:41,  1.07it/s]\u001b[A\n",
      " 20%|██        | 27/134 [00:24<01:40,  1.06it/s]\u001b[A\n",
      " 21%|██        | 28/134 [00:25<01:39,  1.06it/s]\u001b[A\n",
      " 22%|██▏       | 29/134 [00:26<01:39,  1.06it/s]\u001b[A\n",
      " 22%|██▏       | 30/134 [00:27<01:37,  1.06it/s]\u001b[A\n",
      " 23%|██▎       | 31/134 [00:28<01:37,  1.06it/s]\u001b[A\n",
      " 24%|██▍       | 32/134 [00:29<01:35,  1.06it/s]\u001b[A\n",
      " 25%|██▍       | 33/134 [00:30<01:35,  1.06it/s]\u001b[A\n",
      " 25%|██▌       | 34/134 [00:30<01:34,  1.06it/s]\u001b[A\n",
      " 26%|██▌       | 35/134 [00:31<01:32,  1.06it/s]\u001b[A\n",
      " 27%|██▋       | 36/134 [00:32<01:31,  1.07it/s]\u001b[A\n",
      " 28%|██▊       | 37/134 [00:33<01:30,  1.07it/s]\u001b[A\n",
      " 28%|██▊       | 38/134 [00:34<01:29,  1.07it/s]\u001b[A\n",
      " 29%|██▉       | 39/134 [00:35<01:28,  1.07it/s]\u001b[A\n",
      " 30%|██▉       | 40/134 [00:36<01:27,  1.07it/s]\u001b[A\n",
      " 31%|███       | 41/134 [00:37<01:26,  1.07it/s]\u001b[A\n",
      " 31%|███▏      | 42/134 [00:38<01:25,  1.07it/s]\u001b[A\n",
      " 32%|███▏      | 43/134 [00:39<01:25,  1.07it/s]\u001b[A\n",
      " 33%|███▎      | 44/134 [00:40<01:24,  1.07it/s]\u001b[A\n",
      " 34%|███▎      | 45/134 [00:41<01:23,  1.06it/s]\u001b[A\n",
      " 34%|███▍      | 46/134 [00:42<01:22,  1.06it/s]\u001b[A\n",
      " 35%|███▌      | 47/134 [00:43<01:21,  1.06it/s]\u001b[A\n",
      " 36%|███▌      | 48/134 [00:44<01:20,  1.07it/s]\u001b[A\n",
      " 37%|███▋      | 49/134 [00:44<01:19,  1.07it/s]\u001b[A\n",
      " 37%|███▋      | 50/134 [00:45<01:18,  1.07it/s]\u001b[A\n",
      " 38%|███▊      | 51/134 [00:46<01:17,  1.07it/s]\u001b[A\n",
      " 39%|███▉      | 52/134 [00:47<01:17,  1.06it/s]\u001b[A\n",
      " 40%|███▉      | 53/134 [00:48<01:16,  1.07it/s]\u001b[A\n",
      " 40%|████      | 54/134 [00:49<01:14,  1.07it/s]\u001b[A\n",
      " 41%|████      | 55/134 [00:50<01:13,  1.07it/s]\u001b[A\n",
      " 42%|████▏     | 56/134 [00:51<01:13,  1.07it/s]\u001b[A\n",
      " 43%|████▎     | 57/134 [00:52<01:11,  1.07it/s]\u001b[A\n",
      " 43%|████▎     | 58/134 [00:53<01:11,  1.07it/s]\u001b[A\n",
      " 44%|████▍     | 59/134 [00:54<01:10,  1.07it/s]\u001b[A\n",
      " 45%|████▍     | 60/134 [00:55<01:09,  1.06it/s]\u001b[A\n",
      " 46%|████▌     | 61/134 [00:56<01:08,  1.06it/s]\u001b[A\n",
      " 46%|████▋     | 62/134 [00:57<01:08,  1.06it/s]\u001b[A\n",
      " 47%|████▋     | 63/134 [00:58<01:07,  1.06it/s]\u001b[A\n",
      " 48%|████▊     | 64/134 [00:59<01:05,  1.06it/s]\u001b[A\n",
      " 49%|████▊     | 65/134 [01:00<01:04,  1.07it/s]\u001b[A\n",
      " 49%|████▉     | 66/134 [01:00<01:03,  1.07it/s]\u001b[A\n",
      " 50%|█████     | 67/134 [01:01<01:02,  1.07it/s]\u001b[A\n",
      " 51%|█████     | 68/134 [01:02<01:01,  1.07it/s]\u001b[A\n",
      " 51%|█████▏    | 69/134 [01:03<01:00,  1.07it/s]\u001b[A\n",
      " 52%|█████▏    | 70/134 [01:04<00:59,  1.07it/s]\u001b[A\n",
      " 53%|█████▎    | 71/134 [01:05<00:58,  1.07it/s]\u001b[A\n",
      " 54%|█████▎    | 72/134 [01:06<00:58,  1.07it/s]\u001b[A\n",
      " 54%|█████▍    | 73/134 [01:07<00:57,  1.07it/s]\u001b[A\n",
      " 55%|█████▌    | 74/134 [01:08<00:56,  1.06it/s]\u001b[A\n",
      " 56%|█████▌    | 75/134 [01:09<00:55,  1.06it/s]\u001b[A\n",
      " 57%|█████▋    | 76/134 [01:10<00:54,  1.06it/s]\u001b[A\n",
      " 57%|█████▋    | 77/134 [01:11<00:53,  1.06it/s]\u001b[A\n",
      " 58%|█████▊    | 78/134 [01:12<00:52,  1.06it/s]\u001b[A\n",
      " 59%|█████▉    | 79/134 [01:13<00:52,  1.05it/s]\u001b[A\n",
      " 60%|█████▉    | 80/134 [01:14<00:51,  1.06it/s]\u001b[A\n",
      " 60%|██████    | 81/134 [01:15<00:49,  1.06it/s]\u001b[A\n",
      " 61%|██████    | 82/134 [01:16<00:48,  1.06it/s]\u001b[A\n",
      " 62%|██████▏   | 83/134 [01:16<00:48,  1.06it/s]\u001b[A\n",
      " 63%|██████▎   | 84/134 [01:17<00:47,  1.06it/s]\u001b[A\n",
      " 63%|██████▎   | 85/134 [01:18<00:46,  1.06it/s]\u001b[A\n",
      " 64%|██████▍   | 86/134 [01:19<00:45,  1.07it/s]\u001b[A\n",
      " 65%|██████▍   | 87/134 [01:20<00:44,  1.07it/s]\u001b[A\n",
      " 66%|██████▌   | 88/134 [01:21<00:43,  1.07it/s]\u001b[A\n",
      " 66%|██████▋   | 89/134 [01:22<00:42,  1.07it/s]\u001b[A\n",
      " 67%|██████▋   | 90/134 [01:23<00:41,  1.06it/s]\u001b[A\n",
      " 68%|██████▊   | 91/134 [01:24<00:40,  1.06it/s]\u001b[A\n",
      " 69%|██████▊   | 92/134 [01:25<00:39,  1.07it/s]\u001b[A\n",
      " 69%|██████▉   | 93/134 [01:26<00:38,  1.06it/s]\u001b[A\n",
      " 70%|███████   | 94/134 [01:27<00:37,  1.06it/s]\u001b[A\n",
      " 71%|███████   | 95/134 [01:28<00:36,  1.07it/s]\u001b[A\n",
      " 72%|███████▏  | 96/134 [01:29<00:35,  1.07it/s]\u001b[A\n",
      " 72%|███████▏  | 97/134 [01:30<00:34,  1.07it/s]\u001b[A\n",
      " 73%|███████▎  | 98/134 [01:31<00:33,  1.07it/s]\u001b[A\n",
      " 74%|███████▍  | 99/134 [01:31<00:32,  1.07it/s]\u001b[A\n",
      " 75%|███████▍  | 100/134 [01:32<00:32,  1.06it/s]\u001b[A\n",
      " 75%|███████▌  | 101/134 [01:33<00:31,  1.06it/s]\u001b[A\n",
      " 76%|███████▌  | 102/134 [01:34<00:30,  1.06it/s]\u001b[A\n",
      " 77%|███████▋  | 103/134 [01:35<00:29,  1.06it/s]\u001b[A\n",
      " 78%|███████▊  | 104/134 [01:36<00:28,  1.07it/s]\u001b[A\n",
      " 78%|███████▊  | 105/134 [01:37<00:27,  1.07it/s]\u001b[A\n",
      " 79%|███████▉  | 106/134 [01:38<00:26,  1.06it/s]\u001b[A\n",
      " 80%|███████▉  | 107/134 [01:39<00:25,  1.06it/s]\u001b[A\n",
      " 81%|████████  | 108/134 [01:40<00:24,  1.06it/s]\u001b[A\n",
      " 81%|████████▏ | 109/134 [01:41<00:23,  1.06it/s]\u001b[A\n",
      " 82%|████████▏ | 110/134 [01:42<00:22,  1.06it/s]\u001b[A\n",
      " 83%|████████▎ | 111/134 [01:43<00:21,  1.06it/s]\u001b[A\n",
      " 84%|████████▎ | 112/134 [01:44<00:20,  1.06it/s]\u001b[A\n",
      " 84%|████████▍ | 113/134 [01:45<00:19,  1.07it/s]\u001b[A\n",
      " 85%|████████▌ | 114/134 [01:46<00:18,  1.07it/s]\u001b[A\n",
      " 86%|████████▌ | 115/134 [01:46<00:17,  1.07it/s]\u001b[A\n",
      " 87%|████████▋ | 116/134 [01:47<00:16,  1.07it/s]\u001b[A\n",
      " 87%|████████▋ | 117/134 [01:48<00:15,  1.07it/s]\u001b[A\n",
      " 88%|████████▊ | 118/134 [01:49<00:14,  1.07it/s]\u001b[A\n",
      " 89%|████████▉ | 119/134 [01:50<00:13,  1.07it/s]\u001b[A\n",
      " 90%|████████▉ | 120/134 [01:51<00:13,  1.07it/s]\u001b[A\n",
      " 90%|█████████ | 121/134 [01:52<00:12,  1.07it/s]\u001b[A\n",
      " 91%|█████████ | 122/134 [01:53<00:11,  1.07it/s]\u001b[A\n",
      " 92%|█████████▏| 123/134 [01:54<00:10,  1.07it/s]\u001b[A\n",
      " 93%|█████████▎| 124/134 [01:55<00:09,  1.07it/s]\u001b[A\n",
      " 93%|█████████▎| 125/134 [01:56<00:08,  1.07it/s]\u001b[A\n",
      " 94%|█████████▍| 126/134 [01:57<00:07,  1.07it/s]\u001b[A\n",
      " 95%|█████████▍| 127/134 [01:58<00:06,  1.07it/s]\u001b[A\n",
      " 96%|█████████▌| 128/134 [01:59<00:05,  1.06it/s]\u001b[A\n",
      " 96%|█████████▋| 129/134 [02:00<00:04,  1.06it/s]\u001b[A\n",
      " 97%|█████████▋| 130/134 [02:01<00:03,  1.07it/s]\u001b[A\n",
      " 98%|█████████▊| 131/134 [02:01<00:02,  1.07it/s]\u001b[A\n",
      " 99%|█████████▊| 132/134 [02:02<00:01,  1.07it/s]\u001b[A\n",
      " 99%|█████████▉| 133/134 [02:03<00:00,  1.06it/s]\u001b[A\n",
      "                                                     \n",
      " 67%|██████▋   | 2400/3600 [2:12:50<49:46,  2.49s/it]\n",
      "100%|██████████| 134/134 [02:04<00:00,  1.35it/s]\u001b[A\n",
      "                                                 \u001b[A"
     ]
    },
    {
     "name": "stdout",
     "output_type": "stream",
     "text": [
      "{'eval_loss': 0.7965473532676697, 'eval_runtime': 125.0725, 'eval_samples_per_second': 17.054, 'eval_steps_per_second': 1.071, 'epoch': 2.0}\n"
     ]
    },
    {
     "name": "stderr",
     "output_type": "stream",
     "text": [
      " 69%|██████▉   | 2500/3600 [2:18:00<56:45,  3.10s/it]   "
     ]
    },
    {
     "name": "stdout",
     "output_type": "stream",
     "text": [
      "{'loss': 0.8864, 'learning_rate': 1.527777777777778e-05, 'epoch': 2.08}\n"
     ]
    },
    {
     "name": "stderr",
     "output_type": "stream",
     "text": [
      " 72%|███████▏  | 2600/3600 [2:24:16<51:37,  3.10s/it]  "
     ]
    },
    {
     "name": "stdout",
     "output_type": "stream",
     "text": [
      "{'loss': 0.9052, 'learning_rate': 1.388888888888889e-05, 'epoch': 2.17}\n"
     ]
    },
    {
     "name": "stderr",
     "output_type": "stream",
     "text": [
      " 75%|███████▌  | 2700/3600 [2:29:24<45:58,  3.06s/it]"
     ]
    },
    {
     "name": "stdout",
     "output_type": "stream",
     "text": [
      "{'loss': 0.8848, 'learning_rate': 1.25e-05, 'epoch': 2.25}\n"
     ]
    },
    {
     "name": "stderr",
     "output_type": "stream",
     "text": [
      " 78%|███████▊  | 2800/3600 [2:34:33<41:21,  3.10s/it]"
     ]
    },
    {
     "name": "stdout",
     "output_type": "stream",
     "text": [
      "{'loss': 0.8682, 'learning_rate': 1.1111111111111112e-05, 'epoch': 2.33}\n"
     ]
    },
    {
     "name": "stderr",
     "output_type": "stream",
     "text": [
      " 81%|████████  | 2900/3600 [2:39:49<36:48,  3.15s/it]"
     ]
    },
    {
     "name": "stdout",
     "output_type": "stream",
     "text": [
      "{'loss': 0.8585, 'learning_rate': 9.722222222222223e-06, 'epoch': 2.42}\n"
     ]
    },
    {
     "name": "stderr",
     "output_type": "stream",
     "text": [
      " 83%|████████▎ | 3000/3600 [2:45:03<31:27,  3.15s/it]"
     ]
    },
    {
     "name": "stdout",
     "output_type": "stream",
     "text": [
      "{'loss': 0.8569, 'learning_rate': 8.333333333333334e-06, 'epoch': 2.5}\n"
     ]
    },
    {
     "name": "stderr",
     "output_type": "stream",
     "text": [
      "IOStream.flush timed out\n",
      " 86%|████████▌ | 3100/3600 [2:51:24<26:07,  3.13s/it]  "
     ]
    },
    {
     "name": "stdout",
     "output_type": "stream",
     "text": [
      "{'loss': 0.8492, 'learning_rate': 6.944444444444445e-06, 'epoch': 2.58}\n"
     ]
    },
    {
     "name": "stderr",
     "output_type": "stream",
     "text": [
      " 89%|████████▉ | 3200/3600 [2:56:38<20:39,  3.10s/it]"
     ]
    },
    {
     "name": "stdout",
     "output_type": "stream",
     "text": [
      "{'loss': 0.8678, 'learning_rate': 5.555555555555556e-06, 'epoch': 2.67}\n"
     ]
    },
    {
     "name": "stderr",
     "output_type": "stream",
     "text": [
      " 92%|█████████▏| 3300/3600 [3:01:48<15:25,  3.08s/it]"
     ]
    },
    {
     "name": "stdout",
     "output_type": "stream",
     "text": [
      "{'loss': 0.8634, 'learning_rate': 4.166666666666667e-06, 'epoch': 2.75}\n"
     ]
    },
    {
     "name": "stderr",
     "output_type": "stream",
     "text": [
      " 94%|█████████▍| 3400/3600 [3:06:59<10:23,  3.12s/it]"
     ]
    },
    {
     "name": "stdout",
     "output_type": "stream",
     "text": [
      "{'loss': 0.8464, 'learning_rate': 2.777777777777778e-06, 'epoch': 2.83}\n"
     ]
    },
    {
     "name": "stderr",
     "output_type": "stream",
     "text": [
      " 97%|█████████▋| 3500/3600 [3:12:10<05:10,  3.11s/it]"
     ]
    },
    {
     "name": "stdout",
     "output_type": "stream",
     "text": [
      "{'loss': 0.8352, 'learning_rate': 1.388888888888889e-06, 'epoch': 2.92}\n"
     ]
    },
    {
     "name": "stderr",
     "output_type": "stream",
     "text": [
      "100%|██████████| 3600/3600 [3:18:24<00:00,  2.48s/it]"
     ]
    },
    {
     "name": "stdout",
     "output_type": "stream",
     "text": [
      "{'loss': 0.8326, 'learning_rate': 0.0, 'epoch': 3.0}\n"
     ]
    },
    {
     "name": "stderr",
     "output_type": "stream",
     "text": [
      "\n",
      "  0%|          | 0/134 [00:00<?, ?it/s]\u001b[A\n",
      "  1%|▏         | 2/134 [00:00<01:02,  2.12it/s]\u001b[A\n",
      "  2%|▏         | 3/134 [00:01<01:27,  1.49it/s]\u001b[A\n",
      "  3%|▎         | 4/134 [00:02<01:40,  1.29it/s]\u001b[A\n",
      "  4%|▎         | 5/134 [00:03<01:47,  1.20it/s]\u001b[A\n",
      "  4%|▍         | 6/134 [00:04<01:51,  1.15it/s]\u001b[A\n",
      "  5%|▌         | 7/134 [00:05<01:52,  1.13it/s]\u001b[A\n",
      "  6%|▌         | 8/134 [00:06<01:53,  1.11it/s]\u001b[A\n",
      "  7%|▋         | 9/134 [00:07<01:54,  1.09it/s]\u001b[A\n",
      "  7%|▋         | 10/134 [00:08<01:54,  1.08it/s]\u001b[A\n",
      "  8%|▊         | 11/134 [00:09<01:53,  1.08it/s]\u001b[A\n",
      "  9%|▉         | 12/134 [00:10<01:52,  1.08it/s]\u001b[A\n",
      " 10%|▉         | 13/134 [00:11<01:51,  1.08it/s]\u001b[A\n",
      " 10%|█         | 14/134 [00:12<01:51,  1.08it/s]\u001b[A\n",
      " 11%|█         | 15/134 [00:13<01:50,  1.08it/s]\u001b[A\n",
      " 12%|█▏        | 16/134 [00:14<01:49,  1.08it/s]\u001b[A\n",
      " 13%|█▎        | 17/134 [00:14<01:48,  1.08it/s]\u001b[A\n",
      " 13%|█▎        | 18/134 [00:15<01:47,  1.08it/s]\u001b[A\n",
      " 14%|█▍        | 19/134 [00:16<01:47,  1.07it/s]\u001b[A\n",
      " 15%|█▍        | 20/134 [00:17<01:47,  1.07it/s]\u001b[A\n",
      " 16%|█▌        | 21/134 [00:18<01:45,  1.07it/s]\u001b[A\n",
      " 16%|█▋        | 22/134 [00:19<01:44,  1.07it/s]\u001b[A\n",
      " 17%|█▋        | 23/134 [00:20<01:43,  1.07it/s]\u001b[A\n",
      " 18%|█▊        | 24/134 [00:21<01:43,  1.07it/s]\u001b[A\n",
      " 19%|█▊        | 25/134 [00:22<01:42,  1.06it/s]\u001b[A\n",
      " 19%|█▉        | 26/134 [00:23<01:41,  1.06it/s]\u001b[A\n",
      " 20%|██        | 27/134 [00:24<01:40,  1.07it/s]\u001b[A\n",
      " 21%|██        | 28/134 [00:25<01:39,  1.07it/s]\u001b[A\n",
      " 22%|██▏       | 29/134 [00:26<01:38,  1.07it/s]\u001b[A\n",
      " 22%|██▏       | 30/134 [00:27<01:37,  1.07it/s]\u001b[A\n",
      " 23%|██▎       | 31/134 [00:28<01:35,  1.07it/s]\u001b[A\n",
      " 24%|██▍       | 32/134 [00:29<01:34,  1.07it/s]\u001b[A\n",
      " 25%|██▍       | 33/134 [00:29<01:34,  1.07it/s]\u001b[A\n",
      " 25%|██▌       | 34/134 [00:30<01:33,  1.07it/s]\u001b[A\n",
      " 26%|██▌       | 35/134 [00:31<01:32,  1.07it/s]\u001b[A\n",
      " 27%|██▋       | 36/134 [00:32<01:31,  1.07it/s]\u001b[A\n",
      " 28%|██▊       | 37/134 [00:33<01:31,  1.06it/s]\u001b[A\n",
      " 28%|██▊       | 38/134 [00:34<01:30,  1.06it/s]\u001b[A\n",
      " 29%|██▉       | 39/134 [00:35<01:29,  1.06it/s]\u001b[A\n",
      " 30%|██▉       | 40/134 [00:36<01:28,  1.06it/s]\u001b[A\n",
      " 31%|███       | 41/134 [00:37<01:27,  1.06it/s]\u001b[A\n",
      " 31%|███▏      | 42/134 [00:38<01:26,  1.06it/s]\u001b[A\n",
      " 32%|███▏      | 43/134 [00:39<01:25,  1.06it/s]\u001b[A\n",
      " 33%|███▎      | 44/134 [00:40<01:24,  1.07it/s]\u001b[A\n",
      " 34%|███▎      | 45/134 [00:41<01:23,  1.07it/s]\u001b[A\n",
      " 34%|███▍      | 46/134 [00:42<01:22,  1.07it/s]\u001b[A\n",
      " 35%|███▌      | 47/134 [00:43<01:21,  1.07it/s]\u001b[A\n",
      " 36%|███▌      | 48/134 [00:44<01:20,  1.07it/s]\u001b[A\n",
      " 37%|███▋      | 49/134 [00:44<01:19,  1.07it/s]\u001b[A\n",
      " 37%|███▋      | 50/134 [00:45<01:18,  1.06it/s]\u001b[A\n",
      " 38%|███▊      | 51/134 [00:46<01:18,  1.06it/s]\u001b[A\n",
      " 39%|███▉      | 52/134 [00:47<01:17,  1.06it/s]\u001b[A\n",
      " 40%|███▉      | 53/134 [00:48<01:16,  1.06it/s]\u001b[A\n",
      " 40%|████      | 54/134 [00:49<01:15,  1.05it/s]\u001b[A\n",
      " 41%|████      | 55/134 [00:50<01:14,  1.06it/s]\u001b[A\n",
      " 42%|████▏     | 56/134 [00:51<01:13,  1.06it/s]\u001b[A\n",
      " 43%|████▎     | 57/134 [00:52<01:12,  1.06it/s]\u001b[A\n",
      " 43%|████▎     | 58/134 [00:53<01:11,  1.06it/s]\u001b[A\n",
      " 44%|████▍     | 59/134 [00:54<01:10,  1.07it/s]\u001b[A\n",
      " 45%|████▍     | 60/134 [00:55<01:09,  1.06it/s]\u001b[A\n",
      " 46%|████▌     | 61/134 [00:56<01:08,  1.06it/s]\u001b[A\n",
      " 46%|████▋     | 62/134 [00:57<01:07,  1.06it/s]\u001b[A\n",
      " 47%|████▋     | 63/134 [00:58<01:06,  1.07it/s]\u001b[A\n",
      " 48%|████▊     | 64/134 [00:59<01:05,  1.06it/s]\u001b[A\n",
      " 49%|████▊     | 65/134 [01:00<01:04,  1.06it/s]\u001b[A\n",
      " 49%|████▉     | 66/134 [01:01<01:04,  1.06it/s]\u001b[A\n",
      " 50%|█████     | 67/134 [01:01<01:03,  1.06it/s]\u001b[A\n",
      " 51%|█████     | 68/134 [01:02<01:02,  1.06it/s]\u001b[A\n",
      " 51%|█████▏    | 69/134 [01:03<01:01,  1.06it/s]\u001b[A\n",
      " 52%|█████▏    | 70/134 [01:04<01:00,  1.07it/s]\u001b[A\n",
      " 53%|█████▎    | 71/134 [01:05<00:59,  1.06it/s]\u001b[A\n",
      " 54%|█████▎    | 72/134 [01:06<00:58,  1.06it/s]\u001b[A\n",
      " 54%|█████▍    | 73/134 [01:07<00:57,  1.06it/s]\u001b[A\n",
      " 55%|█████▌    | 74/134 [01:08<00:56,  1.06it/s]\u001b[A\n",
      " 56%|█████▌    | 75/134 [01:09<00:55,  1.06it/s]\u001b[A\n",
      " 57%|█████▋    | 76/134 [01:10<00:54,  1.06it/s]\u001b[A\n",
      " 57%|█████▋    | 77/134 [01:11<00:53,  1.07it/s]\u001b[A\n",
      " 58%|█████▊    | 78/134 [01:12<00:52,  1.07it/s]\u001b[A\n",
      " 59%|█████▉    | 79/134 [01:13<00:51,  1.06it/s]\u001b[A\n",
      " 60%|█████▉    | 80/134 [01:14<00:50,  1.06it/s]\u001b[A\n",
      " 60%|██████    | 81/134 [01:15<00:49,  1.06it/s]\u001b[A\n",
      " 61%|██████    | 82/134 [01:16<00:48,  1.07it/s]\u001b[A\n",
      " 62%|██████▏   | 83/134 [01:16<00:47,  1.07it/s]\u001b[A\n",
      " 63%|██████▎   | 84/134 [01:17<00:46,  1.07it/s]\u001b[A\n",
      " 63%|██████▎   | 85/134 [01:18<00:46,  1.06it/s]\u001b[A\n",
      " 64%|██████▍   | 86/134 [01:19<00:45,  1.06it/s]\u001b[A\n",
      " 65%|██████▍   | 87/134 [01:20<00:44,  1.06it/s]\u001b[A\n",
      " 66%|██████▌   | 88/134 [01:21<00:43,  1.06it/s]\u001b[A\n",
      " 66%|██████▋   | 89/134 [01:22<00:42,  1.07it/s]\u001b[A\n",
      " 67%|██████▋   | 90/134 [01:23<00:41,  1.06it/s]\u001b[A\n",
      " 68%|██████▊   | 91/134 [01:24<00:40,  1.06it/s]\u001b[A\n",
      " 69%|██████▊   | 92/134 [01:25<00:39,  1.07it/s]\u001b[A\n",
      " 69%|██████▉   | 93/134 [01:26<00:38,  1.07it/s]\u001b[A\n",
      " 70%|███████   | 94/134 [01:27<00:37,  1.07it/s]\u001b[A\n",
      " 71%|███████   | 95/134 [01:28<00:36,  1.07it/s]\u001b[A\n",
      " 72%|███████▏  | 96/134 [01:29<00:35,  1.07it/s]\u001b[A\n",
      " 72%|███████▏  | 97/134 [01:30<00:34,  1.07it/s]\u001b[A\n",
      " 73%|███████▎  | 98/134 [01:31<00:33,  1.06it/s]\u001b[A\n",
      " 74%|███████▍  | 99/134 [01:32<00:33,  1.06it/s]\u001b[A\n",
      " 75%|███████▍  | 100/134 [01:32<00:32,  1.06it/s]\u001b[A\n",
      " 75%|███████▌  | 101/134 [01:33<00:31,  1.06it/s]\u001b[A\n",
      " 76%|███████▌  | 102/134 [01:34<00:30,  1.06it/s]\u001b[A\n",
      " 77%|███████▋  | 103/134 [01:35<00:29,  1.06it/s]\u001b[A\n",
      " 78%|███████▊  | 104/134 [01:36<00:28,  1.06it/s]\u001b[A\n",
      " 78%|███████▊  | 105/134 [01:37<00:27,  1.06it/s]\u001b[A\n",
      " 79%|███████▉  | 106/134 [01:38<00:26,  1.06it/s]\u001b[A\n",
      " 80%|███████▉  | 107/134 [01:39<00:25,  1.07it/s]\u001b[A\n",
      " 81%|████████  | 108/134 [01:40<00:24,  1.07it/s]\u001b[A\n",
      " 81%|████████▏ | 109/134 [01:41<00:23,  1.07it/s]\u001b[A\n",
      " 82%|████████▏ | 110/134 [01:42<00:22,  1.06it/s]\u001b[A\n",
      " 83%|████████▎ | 111/134 [01:43<00:21,  1.06it/s]\u001b[A\n",
      " 84%|████████▎ | 112/134 [01:44<00:20,  1.06it/s]\u001b[A\n",
      " 84%|████████▍ | 113/134 [01:45<00:19,  1.07it/s]\u001b[A\n",
      " 85%|████████▌ | 114/134 [01:46<00:18,  1.07it/s]\u001b[A\n",
      " 86%|████████▌ | 115/134 [01:47<00:17,  1.06it/s]\u001b[A\n",
      " 87%|████████▋ | 116/134 [01:48<00:16,  1.06it/s]\u001b[A\n",
      " 87%|████████▋ | 117/134 [01:48<00:16,  1.06it/s]\u001b[A\n",
      " 88%|████████▊ | 118/134 [01:49<00:15,  1.06it/s]\u001b[A\n",
      " 89%|████████▉ | 119/134 [01:50<00:14,  1.06it/s]\u001b[A\n",
      " 90%|████████▉ | 120/134 [01:51<00:13,  1.06it/s]\u001b[A\n",
      " 90%|█████████ | 121/134 [01:52<00:12,  1.06it/s]\u001b[A\n",
      " 91%|█████████ | 122/134 [01:53<00:11,  1.06it/s]\u001b[A\n",
      " 92%|█████████▏| 123/134 [01:54<00:10,  1.06it/s]\u001b[A\n",
      " 93%|█████████▎| 124/134 [01:55<00:09,  1.06it/s]\u001b[A\n",
      " 93%|█████████▎| 125/134 [01:56<00:08,  1.07it/s]\u001b[A\n",
      " 94%|█████████▍| 126/134 [01:57<00:07,  1.07it/s]\u001b[A\n",
      " 95%|█████████▍| 127/134 [01:58<00:06,  1.07it/s]\u001b[A\n",
      " 96%|█████████▌| 128/134 [01:59<00:05,  1.06it/s]\u001b[A\n",
      " 96%|█████████▋| 129/134 [02:00<00:04,  1.06it/s]\u001b[A\n",
      " 97%|█████████▋| 130/134 [02:01<00:03,  1.05it/s]\u001b[A\n",
      " 98%|█████████▊| 131/134 [02:02<00:02,  1.06it/s]\u001b[A\n",
      " 99%|█████████▊| 132/134 [02:03<00:01,  1.06it/s]\u001b[A\n",
      " 99%|█████████▉| 133/134 [02:04<00:00,  1.06it/s]\u001b[A\n",
      "                                                     \n",
      "100%|██████████| 3600/3600 [3:20:29<00:00,  2.48s/it]\n",
      "100%|██████████| 134/134 [02:04<00:00,  1.34it/s]\u001b[A\n",
      "100%|██████████| 3600/3600 [3:20:29<00:00,  3.34s/it]"
     ]
    },
    {
     "name": "stdout",
     "output_type": "stream",
     "text": [
      "{'eval_loss': 0.7373327612876892, 'eval_runtime': 125.2696, 'eval_samples_per_second': 17.027, 'eval_steps_per_second': 1.07, 'epoch': 3.0}\n",
      "{'train_runtime': 12029.9461, 'train_samples_per_second': 4.785, 'train_steps_per_second': 0.299, 'train_loss': 1.0613170199924045, 'epoch': 3.0}\n"
     ]
    },
    {
     "name": "stderr",
     "output_type": "stream",
     "text": [
      "\n"
     ]
    },
    {
     "data": {
      "text/plain": [
       "TrainOutput(global_step=3600, training_loss=1.0613170199924045, metrics={'train_runtime': 12029.9461, 'train_samples_per_second': 4.785, 'train_steps_per_second': 0.299, 'train_loss': 1.0613170199924045, 'epoch': 3.0})"
      ]
     },
     "execution_count": 12,
     "metadata": {},
     "output_type": "execute_result"
    }
   ],
   "source": [
    "trainer.train()"
   ]
  },
  {
   "cell_type": "code",
   "execution_count": 13,
   "id": "d3fd7537-901c-4c9f-a02e-956b3180b226",
   "metadata": {
    "execution": {
     "iopub.execute_input": "2025-04-07T21:03:03.497537Z",
     "iopub.status.busy": "2025-04-07T21:03:03.496388Z",
     "iopub.status.idle": "2025-04-07T21:05:08.656477Z",
     "shell.execute_reply": "2025-04-07T21:05:08.655727Z",
     "shell.execute_reply.started": "2025-04-07T21:03:03.497501Z"
    },
    "tags": []
   },
   "outputs": [
    {
     "name": "stderr",
     "output_type": "stream",
     "text": [
      "100%|██████████| 134/134 [02:04<00:00,  1.08it/s]"
     ]
    },
    {
     "name": "stdout",
     "output_type": "stream",
     "text": [
      "After training:  Loss = 0.7448, Perplexity = 2.11\n"
     ]
    },
    {
     "name": "stderr",
     "output_type": "stream",
     "text": [
      "\n"
     ]
    }
   ],
   "source": [
    "eval_loss_after = trainer.evaluate(eval_dataset=eval_dataset).get(\"eval_loss\")\n",
    "perplexity_after = math.exp(eval_loss_after) if eval_loss_after else None\n",
    "print(f\"After training:  Loss = {eval_loss_after:.4f}, Perplexity = {perplexity_after:.2f}\")"
   ]
  },
  {
   "cell_type": "code",
   "execution_count": 15,
   "id": "825cf012-f1c4-4eb8-9c09-68e1a4151627",
   "metadata": {
    "execution": {
     "iopub.execute_input": "2025-04-07T21:15:59.533330Z",
     "iopub.status.busy": "2025-04-07T21:15:59.532401Z",
     "iopub.status.idle": "2025-04-07T21:16:22.204371Z",
     "shell.execute_reply": "2025-04-07T21:16:22.203518Z",
     "shell.execute_reply.started": "2025-04-07T21:15:59.533283Z"
    },
    "tags": []
   },
   "outputs": [
    {
     "data": {
      "text/plain": [
       "('mlm_results/tokenizer_config.json',\n",
       " 'mlm_results/special_tokens_map.json',\n",
       " 'mlm_results/vocab.json',\n",
       " 'mlm_results/merges.txt',\n",
       " 'mlm_results/added_tokens.json',\n",
       " 'mlm_results/tokenizer.json')"
      ]
     },
     "execution_count": 15,
     "metadata": {},
     "output_type": "execute_result"
    }
   ],
   "source": [
    "# сохраняем модель \n",
    "model.save_pretrained(\"mlm_results\")\n",
    "tokenizer.save_pretrained(\"mlm_results\")"
   ]
  },
  {
   "cell_type": "markdown",
   "id": "b17127bc-418c-44e8-b17e-40e6ed5acfdb",
   "metadata": {},
   "source": [
    "### Перетренировка классификатора с использованием весов из MLM"
   ]
  },
  {
   "cell_type": "markdown",
   "id": "615b5b23-bcf1-4356-94c0-2d0f86a4ec66",
   "metadata": {
    "execution": {
     "iopub.execute_input": "2025-04-08T12:21:33.739281Z",
     "iopub.status.busy": "2025-04-08T12:21:33.738529Z",
     "iopub.status.idle": "2025-04-08T12:21:33.793296Z",
     "shell.execute_reply": "2025-04-08T12:21:33.792362Z",
     "shell.execute_reply.started": "2025-04-08T12:21:33.739249Z"
    }
   },
   "source": [
    "#### классификационная голова -- results/best_model\n",
    "#### веса языковой части -- mlm_results"
   ]
  },
  {
   "cell_type": "code",
   "execution_count": 3,
   "id": "fa5754ca-a52d-4d16-80dc-0590031fdb85",
   "metadata": {
    "execution": {
     "iopub.execute_input": "2025-04-08T14:12:48.482918Z",
     "iopub.status.busy": "2025-04-08T14:12:48.481416Z",
     "iopub.status.idle": "2025-04-08T14:13:23.036513Z",
     "shell.execute_reply": "2025-04-08T14:13:23.035358Z",
     "shell.execute_reply.started": "2025-04-08T14:12:48.482860Z"
    },
    "tags": []
   },
   "outputs": [
    {
     "name": "stderr",
     "output_type": "stream",
     "text": [
      "/home/jupyter/.local/lib/python3.10/site-packages/transformers/utils/hub.py:123: FutureWarning: Using `TRANSFORMERS_CACHE` is deprecated and will be removed in v5 of Transformers. Use `HF_HOME` instead.\n",
      "  warnings.warn(\n",
      "/usr/local/lib/python3.10/dist-packages/torch/cuda/__init__.py:546: UserWarning: Can't initialize NVML\n",
      "  warnings.warn(\"Can't initialize NVML\")\n",
      "2025-04-08 14:13:16.765579: W tensorflow/compiler/tf2tensorrt/utils/py_utils.cc:38] TF-TRT Warning: Could not find TensorRT\n"
     ]
    }
   ],
   "source": [
    "from datasets import load_dataset\n",
    "from transformers import (\n",
    "    AutoTokenizer,\n",
    "    AutoModelForSequenceClassification,\n",
    "    TrainingArguments,\n",
    "    Trainer,\n",
    "    DataCollatorWithPadding,\n",
    ")\n",
    "from sklearn.metrics import accuracy_score, f1_score, confusion_matrix\n",
    "import numpy as np\n",
    "import torch"
   ]
  },
  {
   "cell_type": "code",
   "execution_count": 4,
   "id": "48f74d81-4d71-4126-a864-f36030adc95e",
   "metadata": {
    "execution": {
     "iopub.execute_input": "2025-04-08T14:13:23.039698Z",
     "iopub.status.busy": "2025-04-08T14:13:23.038203Z",
     "iopub.status.idle": "2025-04-08T14:13:23.642914Z",
     "shell.execute_reply": "2025-04-08T14:13:23.641720Z",
     "shell.execute_reply.started": "2025-04-08T14:13:23.039653Z"
    },
    "tags": []
   },
   "outputs": [],
   "source": [
    "dataset = load_dataset(\"csv\", data_files=\"data/train.csv\")[\"train\"]\n",
    "dataset = dataset.train_test_split(test_size=0.2, seed=42)"
   ]
  },
  {
   "cell_type": "code",
   "execution_count": 5,
   "id": "250af948-d381-4c91-bf08-4339df289713",
   "metadata": {
    "execution": {
     "iopub.execute_input": "2025-04-08T14:13:23.647437Z",
     "iopub.status.busy": "2025-04-08T14:13:23.645147Z",
     "iopub.status.idle": "2025-04-08T14:13:23.919715Z",
     "shell.execute_reply": "2025-04-08T14:13:23.918612Z",
     "shell.execute_reply.started": "2025-04-08T14:13:23.647367Z"
    },
    "tags": []
   },
   "outputs": [],
   "source": [
    "tokenizer = AutoTokenizer.from_pretrained(\"mlm_results\")\n",
    "\n",
    "def tokenize_function(example):\n",
    "    return tokenizer(example[\"text\"], truncation=True)\n",
    "\n",
    "tokenized_datasets = dataset.map(tokenize_function, batched=True)"
   ]
  },
  {
   "cell_type": "code",
   "execution_count": 16,
   "id": "24d11c1a-bc93-44ca-b2ba-650c3593e6bf",
   "metadata": {
    "execution": {
     "iopub.execute_input": "2025-04-08T12:38:33.371988Z",
     "iopub.status.busy": "2025-04-08T12:38:33.370748Z",
     "iopub.status.idle": "2025-04-08T12:38:33.541300Z",
     "shell.execute_reply": "2025-04-08T12:38:33.540507Z",
     "shell.execute_reply.started": "2025-04-08T12:38:33.371940Z"
    },
    "tags": []
   },
   "outputs": [
    {
     "name": "stderr",
     "output_type": "stream",
     "text": [
      "Some weights of RobertaModel were not initialized from the model checkpoint at mlm_results and are newly initialized: ['roberta.pooler.dense.weight', 'roberta.pooler.dense.bias']\n",
      "You should probably TRAIN this model on a down-stream task to be able to use it for predictions and inference.\n"
     ]
    }
   ],
   "source": [
    "# модель классификации (голова)\n",
    "model = AutoModelForSequenceClassification.from_pretrained(\"results/best_model\")\n",
    "\n",
    "# MLM веса \n",
    "mlm_model = AutoModel.from_pretrained(\"mlm_results\")\n",
    "\n",
    "# подставляем веса в классификационную модель\n",
    "model.roberta = mlm_model\n"
   ]
  },
  {
   "cell_type": "code",
   "execution_count": 17,
   "id": "4befb27b-9541-4eaf-b13f-6ae3e794e5a6",
   "metadata": {
    "execution": {
     "iopub.execute_input": "2025-04-08T12:39:41.051867Z",
     "iopub.status.busy": "2025-04-08T12:39:41.050969Z",
     "iopub.status.idle": "2025-04-08T12:39:41.097033Z",
     "shell.execute_reply": "2025-04-08T12:39:41.096177Z",
     "shell.execute_reply.started": "2025-04-08T12:39:41.051822Z"
    },
    "tags": []
   },
   "outputs": [],
   "source": [
    "def compute_metrics(eval_pred):\n",
    "    logits, labels = eval_pred\n",
    "    predictions = np.argmax(logits, axis=-1)\n",
    "    acc = accuracy_score(labels, predictions)\n",
    "    f1 = f1_score(labels, predictions)\n",
    "    return {\n",
    "        \"accuracy\": acc,\n",
    "        \"f1\": f1,\n",
    "    }"
   ]
  },
  {
   "cell_type": "code",
   "execution_count": 18,
   "id": "ad0edd81-6efb-4d27-8c69-a897f26398f4",
   "metadata": {
    "execution": {
     "iopub.execute_input": "2025-04-08T12:39:53.558257Z",
     "iopub.status.busy": "2025-04-08T12:39:53.557104Z",
     "iopub.status.idle": "2025-04-08T12:39:53.684886Z",
     "shell.execute_reply": "2025-04-08T12:39:53.683776Z",
     "shell.execute_reply.started": "2025-04-08T12:39:53.558215Z"
    },
    "tags": []
   },
   "outputs": [
    {
     "name": "stderr",
     "output_type": "stream",
     "text": [
      "Detected kernel version 5.4.0, which is below the recommended minimum of 5.5.0; this can cause the process to hang. It is recommended to upgrade the kernel to the minimum version or higher.\n"
     ]
    }
   ],
   "source": [
    "training_args = TrainingArguments(\n",
    "    output_dir=\"./final_results\",\n",
    "    evaluation_strategy=\"epoch\",\n",
    "    save_strategy=\"epoch\",\n",
    "    learning_rate=2e-5,\n",
    "    per_device_train_batch_size=16,\n",
    "    per_device_eval_batch_size=16,\n",
    "    num_train_epochs=4,\n",
    "    weight_decay=0.01,\n",
    "    load_best_model_at_end=True,\n",
    "    metric_for_best_model=\"f1\",\n",
    ")\n",
    "\n",
    "data_collator = DataCollatorWithPadding(tokenizer=tokenizer)\n",
    "\n",
    "trainer = Trainer(\n",
    "    model=model,\n",
    "    args=training_args,\n",
    "    train_dataset=tokenized_datasets[\"train\"],\n",
    "    eval_dataset=tokenized_datasets[\"test\"],\n",
    "    tokenizer=tokenizer,\n",
    "    data_collator=data_collator,\n",
    "    compute_metrics=compute_metrics,\n",
    ")"
   ]
  },
  {
   "cell_type": "code",
   "execution_count": null,
   "id": "da0c7636-6ddc-4e23-82c7-15c9bc1b2f3c",
   "metadata": {
    "execution": {
     "iopub.execute_input": "2025-04-08T12:40:02.057309Z",
     "iopub.status.busy": "2025-04-08T12:40:02.056130Z"
    },
    "tags": []
   },
   "outputs": [
    {
     "name": "stderr",
     "output_type": "stream",
     "text": [
      "  0%|          | 0/1184 [00:00<?, ?it/s]You're using a RobertaTokenizerFast tokenizer. Please note that with a fast tokenizer, using the `__call__` method is faster than using a method to encode the text followed by a call to the `pad` method to get a padded encoding.\n",
      " 25%|██▌       | 296/1184 [04:07<11:05,  1.33it/s]\n",
      "  0%|          | 0/74 [00:00<?, ?it/s]\u001b[A\n",
      "  3%|▎         | 2/74 [00:00<00:06, 11.81it/s]\u001b[A\n",
      "  5%|▌         | 4/74 [00:00<00:09,  7.39it/s]\u001b[A\n",
      "  7%|▋         | 5/74 [00:00<00:10,  6.61it/s]\u001b[A\n",
      "  8%|▊         | 6/74 [00:00<00:10,  6.27it/s]\u001b[A\n",
      "  9%|▉         | 7/74 [00:01<00:11,  5.71it/s]\u001b[A\n",
      " 11%|█         | 8/74 [00:01<00:11,  5.83it/s]\u001b[A\n",
      " 12%|█▏        | 9/74 [00:01<00:11,  5.45it/s]\u001b[A\n",
      " 14%|█▎        | 10/74 [00:01<00:11,  5.53it/s]\u001b[A\n",
      " 15%|█▍        | 11/74 [00:01<00:11,  5.54it/s]\u001b[A\n",
      " 16%|█▌        | 12/74 [00:02<00:11,  5.38it/s]\u001b[A\n",
      " 18%|█▊        | 13/74 [00:02<00:11,  5.39it/s]\u001b[A\n",
      " 19%|█▉        | 14/74 [00:02<00:11,  5.35it/s]\u001b[A\n",
      " 20%|██        | 15/74 [00:02<00:10,  5.59it/s]\u001b[A\n",
      " 22%|██▏       | 16/74 [00:02<00:10,  5.47it/s]\u001b[A\n",
      " 23%|██▎       | 17/74 [00:02<00:10,  5.20it/s]\u001b[A\n",
      " 24%|██▍       | 18/74 [00:03<00:10,  5.42it/s]\u001b[A\n",
      " 26%|██▌       | 19/74 [00:03<00:09,  5.64it/s]\u001b[A\n",
      " 27%|██▋       | 20/74 [00:03<00:10,  5.28it/s]\u001b[A\n",
      " 28%|██▊       | 21/74 [00:03<00:09,  5.38it/s]\u001b[A\n",
      " 30%|██▉       | 22/74 [00:03<00:10,  5.06it/s]\u001b[A\n",
      " 31%|███       | 23/74 [00:04<00:09,  5.28it/s]\u001b[A\n",
      " 32%|███▏      | 24/74 [00:04<00:09,  5.00it/s]\u001b[A\n",
      " 34%|███▍      | 25/74 [00:04<00:09,  5.08it/s]\u001b[A\n",
      " 35%|███▌      | 26/74 [00:04<00:09,  5.21it/s]\u001b[A\n",
      " 36%|███▋      | 27/74 [00:04<00:09,  4.75it/s]\u001b[A\n",
      " 38%|███▊      | 28/74 [00:05<00:09,  5.00it/s]\u001b[A\n",
      " 39%|███▉      | 29/74 [00:05<00:08,  5.28it/s]\u001b[A\n",
      " 41%|████      | 30/74 [00:05<00:08,  5.33it/s]\u001b[A\n",
      " 42%|████▏     | 31/74 [00:05<00:07,  5.45it/s]\u001b[A\n",
      " 43%|████▎     | 32/74 [00:05<00:07,  5.47it/s]\u001b[A\n",
      " 45%|████▍     | 33/74 [00:05<00:07,  5.47it/s]\u001b[A\n",
      " 46%|████▌     | 34/74 [00:06<00:07,  5.22it/s]\u001b[A\n",
      " 47%|████▋     | 35/74 [00:06<00:07,  5.01it/s]\u001b[A\n",
      " 49%|████▊     | 36/74 [00:06<00:07,  5.08it/s]\u001b[A\n",
      " 50%|█████     | 37/74 [00:06<00:07,  5.08it/s]\u001b[A\n",
      " 51%|█████▏    | 38/74 [00:06<00:06,  5.35it/s]\u001b[A\n",
      " 53%|█████▎    | 39/74 [00:07<00:06,  5.43it/s]\u001b[A\n",
      " 54%|█████▍    | 40/74 [00:07<00:06,  5.44it/s]\u001b[A\n",
      " 55%|█████▌    | 41/74 [00:07<00:06,  5.33it/s]\u001b[A\n",
      " 57%|█████▋    | 42/74 [00:07<00:05,  5.56it/s]\u001b[A\n",
      " 58%|█████▊    | 43/74 [00:07<00:05,  5.47it/s]\u001b[A\n",
      " 59%|█████▉    | 44/74 [00:08<00:05,  5.59it/s]\u001b[A\n",
      " 61%|██████    | 45/74 [00:08<00:05,  5.59it/s]\u001b[A\n",
      " 62%|██████▏   | 46/74 [00:08<00:05,  5.44it/s]\u001b[A\n",
      " 64%|██████▎   | 47/74 [00:08<00:04,  5.54it/s]\u001b[A\n",
      " 65%|██████▍   | 48/74 [00:08<00:04,  5.37it/s]\u001b[A\n",
      " 66%|██████▌   | 49/74 [00:08<00:04,  5.45it/s]\u001b[A\n",
      " 68%|██████▊   | 50/74 [00:09<00:04,  5.54it/s]\u001b[A\n",
      " 69%|██████▉   | 51/74 [00:09<00:04,  5.16it/s]\u001b[A\n",
      " 70%|███████   | 52/74 [00:09<00:04,  5.05it/s]\u001b[A\n",
      " 72%|███████▏  | 53/74 [00:09<00:04,  5.24it/s]\u001b[A\n",
      " 73%|███████▎  | 54/74 [00:09<00:03,  5.26it/s]\u001b[A\n",
      " 74%|███████▍  | 55/74 [00:10<00:03,  5.37it/s]\u001b[A\n",
      " 76%|███████▌  | 56/74 [00:10<00:03,  5.51it/s]\u001b[A\n",
      " 77%|███████▋  | 57/74 [00:10<00:03,  5.63it/s]\u001b[A\n",
      " 78%|███████▊  | 58/74 [00:10<00:02,  5.72it/s]\u001b[A\n",
      " 80%|███████▉  | 59/74 [00:10<00:02,  5.67it/s]\u001b[A\n",
      " 81%|████████  | 60/74 [00:10<00:02,  5.70it/s]\u001b[A\n",
      " 82%|████████▏ | 61/74 [00:11<00:02,  5.53it/s]\u001b[A\n",
      " 84%|████████▍ | 62/74 [00:11<00:02,  5.50it/s]\u001b[A\n",
      " 85%|████████▌ | 63/74 [00:11<00:02,  5.43it/s]\u001b[A\n",
      " 86%|████████▋ | 64/74 [00:11<00:01,  5.58it/s]\u001b[A\n",
      " 88%|████████▊ | 65/74 [00:11<00:01,  5.65it/s]\u001b[A\n",
      " 89%|████████▉ | 66/74 [00:12<00:01,  5.48it/s]\u001b[A\n",
      " 91%|█████████ | 67/74 [00:12<00:01,  5.68it/s]\u001b[A\n",
      " 92%|█████████▏| 68/74 [00:12<00:01,  5.60it/s]\u001b[A\n",
      " 93%|█████████▎| 69/74 [00:12<00:00,  5.57it/s]\u001b[A\n",
      " 95%|█████████▍| 70/74 [00:12<00:00,  5.57it/s]\u001b[A\n",
      " 96%|█████████▌| 71/74 [00:12<00:00,  5.71it/s]\u001b[A\n",
      " 97%|█████████▋| 72/74 [00:13<00:00,  5.53it/s]\u001b[A\n",
      " 99%|█████████▊| 73/74 [00:13<00:00,  5.52it/s]\u001b[A\n",
      "                                                  \n",
      " 25%|██▌       | 296/1184 [04:20<11:05,  1.33it/s]\n",
      "100%|██████████| 74/74 [00:13<00:00,  5.67it/s]\u001b[A\n",
      "                                               \u001b[A"
     ]
    },
    {
     "name": "stdout",
     "output_type": "stream",
     "text": [
      "{'eval_loss': 0.16351749002933502, 'eval_accuracy': 0.9179357021996616, 'eval_f1': 0.9214574898785427, 'eval_runtime': 13.702, 'eval_samples_per_second': 86.265, 'eval_steps_per_second': 5.401, 'epoch': 1.0}\n"
     ]
    },
    {
     "name": "stderr",
     "output_type": "stream",
     "text": [
      "IOStream.flush timed out\n",
      " 42%|████▏     | 500/1184 [08:19<10:08,  1.12it/s]  "
     ]
    },
    {
     "name": "stdout",
     "output_type": "stream",
     "text": [
      "{'loss': 0.1841, 'learning_rate': 1.1554054054054056e-05, 'epoch': 1.69}\n"
     ]
    },
    {
     "name": "stderr",
     "output_type": "stream",
     "text": [
      " 50%|█████     | 592/1184 [09:38<07:13,  1.37it/s]\n",
      "  0%|          | 0/74 [00:00<?, ?it/s]\u001b[A\n",
      "  3%|▎         | 2/74 [00:00<00:06, 10.86it/s]\u001b[A\n",
      "  5%|▌         | 4/74 [00:00<00:09,  7.33it/s]\u001b[A\n",
      "  7%|▋         | 5/74 [00:00<00:10,  6.46it/s]\u001b[A\n",
      "  8%|▊         | 6/74 [00:00<00:10,  6.22it/s]\u001b[A\n",
      "  9%|▉         | 7/74 [00:01<00:12,  5.50it/s]\u001b[A\n",
      " 11%|█         | 8/74 [00:01<00:11,  5.66it/s]\u001b[A\n",
      " 12%|█▏        | 9/74 [00:01<00:12,  5.35it/s]\u001b[A\n",
      " 14%|█▎        | 10/74 [00:01<00:11,  5.36it/s]\u001b[A\n",
      " 15%|█▍        | 11/74 [00:01<00:11,  5.58it/s]\u001b[A\n",
      " 16%|█▌        | 12/74 [00:02<00:11,  5.43it/s]\u001b[A\n",
      " 18%|█▊        | 13/74 [00:02<00:11,  5.49it/s]\u001b[A\n",
      " 19%|█▉        | 14/74 [00:02<00:10,  5.48it/s]\u001b[A\n",
      " 20%|██        | 15/74 [00:02<00:10,  5.72it/s]\u001b[A\n",
      " 22%|██▏       | 16/74 [00:02<00:10,  5.67it/s]\u001b[A\n",
      " 23%|██▎       | 17/74 [00:02<00:10,  5.44it/s]\u001b[A\n",
      " 24%|██▍       | 18/74 [00:03<00:10,  5.52it/s]\u001b[A\n",
      " 26%|██▌       | 19/74 [00:03<00:09,  5.78it/s]\u001b[A\n",
      " 27%|██▋       | 20/74 [00:03<00:09,  5.45it/s]\u001b[A\n",
      " 28%|██▊       | 21/74 [00:03<00:09,  5.53it/s]\u001b[A\n",
      " 30%|██▉       | 22/74 [00:03<00:09,  5.36it/s]\u001b[A\n",
      " 31%|███       | 23/74 [00:04<00:09,  5.35it/s]\u001b[A\n",
      " 32%|███▏      | 24/74 [00:04<00:09,  5.02it/s]\u001b[A\n",
      " 34%|███▍      | 25/74 [00:04<00:09,  5.07it/s]\u001b[A\n",
      " 35%|███▌      | 26/74 [00:04<00:09,  4.99it/s]\u001b[A\n",
      " 36%|███▋      | 27/74 [00:04<00:09,  4.98it/s]\u001b[A\n",
      " 38%|███▊      | 28/74 [00:05<00:09,  5.11it/s]\u001b[A\n",
      " 39%|███▉      | 29/74 [00:05<00:08,  5.21it/s]\u001b[A\n",
      " 41%|████      | 30/74 [00:05<00:08,  5.35it/s]\u001b[A\n",
      " 42%|████▏     | 31/74 [00:05<00:07,  5.48it/s]\u001b[A\n",
      " 43%|████▎     | 32/74 [00:05<00:07,  5.51it/s]\u001b[A\n",
      " 45%|████▍     | 33/74 [00:05<00:07,  5.64it/s]\u001b[A\n",
      " 46%|████▌     | 34/74 [00:06<00:07,  5.65it/s]\u001b[A\n",
      " 47%|████▋     | 35/74 [00:06<00:07,  5.33it/s]\u001b[A\n",
      " 49%|████▊     | 36/74 [00:06<00:07,  5.37it/s]\u001b[A\n",
      " 50%|█████     | 37/74 [00:06<00:06,  5.48it/s]\u001b[A\n",
      " 51%|█████▏    | 38/74 [00:06<00:06,  5.74it/s]\u001b[A\n",
      " 53%|█████▎    | 39/74 [00:07<00:06,  5.72it/s]\u001b[A\n",
      " 54%|█████▍    | 40/74 [00:07<00:05,  5.67it/s]\u001b[A\n",
      " 55%|█████▌    | 41/74 [00:07<00:06,  5.36it/s]\u001b[A\n",
      " 57%|█████▋    | 42/74 [00:07<00:05,  5.57it/s]\u001b[A\n",
      " 58%|█████▊    | 43/74 [00:07<00:05,  5.50it/s]\u001b[A\n",
      " 59%|█████▉    | 44/74 [00:07<00:05,  5.60it/s]\u001b[A\n",
      " 61%|██████    | 45/74 [00:08<00:05,  5.65it/s]\u001b[A\n",
      " 62%|██████▏   | 46/74 [00:08<00:04,  5.85it/s]\u001b[A\n",
      " 64%|██████▎   | 47/74 [00:08<00:04,  5.74it/s]\u001b[A\n",
      " 65%|██████▍   | 48/74 [00:08<00:04,  5.39it/s]\u001b[A\n",
      " 66%|██████▌   | 49/74 [00:08<00:04,  5.31it/s]\u001b[A\n",
      " 68%|██████▊   | 50/74 [00:09<00:04,  5.43it/s]\u001b[A\n",
      " 69%|██████▉   | 51/74 [00:09<00:04,  5.05it/s]\u001b[A\n",
      " 70%|███████   | 52/74 [00:09<00:04,  4.85it/s]\u001b[A\n",
      " 72%|███████▏  | 53/74 [00:09<00:04,  5.10it/s]\u001b[A\n",
      " 73%|███████▎  | 54/74 [00:09<00:03,  5.23it/s]\u001b[A\n",
      " 74%|███████▍  | 55/74 [00:10<00:03,  5.08it/s]\u001b[A\n",
      " 76%|███████▌  | 56/74 [00:10<00:03,  5.29it/s]\u001b[A\n",
      " 77%|███████▋  | 57/74 [00:10<00:03,  5.34it/s]\u001b[A\n",
      " 78%|███████▊  | 58/74 [00:10<00:03,  5.30it/s]\u001b[A\n",
      " 80%|███████▉  | 59/74 [00:10<00:02,  5.44it/s]\u001b[A\n",
      " 81%|████████  | 60/74 [00:10<00:02,  5.54it/s]\u001b[A\n",
      " 82%|████████▏ | 61/74 [00:11<00:02,  5.40it/s]\u001b[A\n",
      " 84%|████████▍ | 62/74 [00:11<00:02,  5.37it/s]\u001b[A\n",
      " 85%|████████▌ | 63/74 [00:11<00:02,  5.39it/s]\u001b[A\n",
      " 86%|████████▋ | 64/74 [00:11<00:01,  5.36it/s]\u001b[A\n",
      " 88%|████████▊ | 65/74 [00:11<00:01,  5.46it/s]\u001b[A\n",
      " 89%|████████▉ | 66/74 [00:12<00:01,  5.40it/s]\u001b[A\n",
      " 91%|█████████ | 67/74 [00:12<00:01,  5.62it/s]\u001b[A\n",
      " 92%|█████████▏| 68/74 [00:12<00:01,  5.72it/s]\u001b[A\n",
      " 93%|█████████▎| 69/74 [00:12<00:00,  5.69it/s]\u001b[A\n",
      " 95%|█████████▍| 70/74 [00:12<00:00,  5.29it/s]\u001b[A\n",
      " 96%|█████████▌| 71/74 [00:12<00:00,  5.44it/s]\u001b[A\n",
      " 97%|█████████▋| 72/74 [00:13<00:00,  5.27it/s]\u001b[A\n",
      " 99%|█████████▊| 73/74 [00:13<00:00,  5.21it/s]\u001b[A\n",
      "                                                  \n",
      " 50%|█████     | 592/1184 [09:51<07:13,  1.37it/s]\n",
      "100%|██████████| 74/74 [00:13<00:00,  5.40it/s]\u001b[A\n",
      "                                               \u001b[A"
     ]
    },
    {
     "name": "stdout",
     "output_type": "stream",
     "text": [
      "{'eval_loss': 0.1626693606376648, 'eval_accuracy': 0.9196277495769881, 'eval_f1': 0.9230769230769231, 'eval_runtime': 13.7166, 'eval_samples_per_second': 86.173, 'eval_steps_per_second': 5.395, 'epoch': 2.0}\n"
     ]
    },
    {
     "name": "stderr",
     "output_type": "stream",
     "text": [
      "IOStream.flush timed out\n",
      " 75%|███████▌  | 888/1184 [15:01<03:38,  1.35it/s]  \n",
      "  0%|          | 0/74 [00:00<?, ?it/s]\u001b[A\n",
      "  3%|▎         | 2/74 [00:00<00:06, 11.64it/s]\u001b[A\n",
      "  5%|▌         | 4/74 [00:00<00:13,  5.26it/s]\u001b[A\n",
      "  7%|▋         | 5/74 [00:00<00:13,  5.26it/s]\u001b[A\n",
      "  8%|▊         | 6/74 [00:01<00:12,  5.34it/s]\u001b[A\n",
      "  9%|▉         | 7/74 [00:01<00:13,  5.13it/s]\u001b[A\n",
      " 11%|█         | 8/74 [00:01<00:12,  5.44it/s]\u001b[A\n",
      " 12%|█▏        | 9/74 [00:01<00:12,  5.21it/s]\u001b[A\n",
      " 14%|█▎        | 10/74 [00:01<00:12,  5.32it/s]\u001b[A\n",
      " 15%|█▍        | 11/74 [00:01<00:11,  5.50it/s]\u001b[A\n",
      " 16%|█▌        | 12/74 [00:02<00:12,  5.11it/s]\u001b[A\n",
      " 18%|█▊        | 13/74 [00:02<00:11,  5.25it/s]\u001b[A\n",
      " 19%|█▉        | 14/74 [00:02<00:11,  5.29it/s]\u001b[A\n",
      " 20%|██        | 15/74 [00:02<00:10,  5.54it/s]\u001b[A\n",
      " 22%|██▏       | 16/74 [00:02<00:10,  5.52it/s]\u001b[A\n",
      " 23%|██▎       | 17/74 [00:03<00:10,  5.30it/s]\u001b[A\n",
      " 24%|██▍       | 18/74 [00:03<00:10,  5.34it/s]\u001b[A\n",
      " 26%|██▌       | 19/74 [00:03<00:10,  5.42it/s]\u001b[A\n",
      " 27%|██▋       | 20/74 [00:03<00:10,  5.24it/s]\u001b[A\n",
      " 28%|██▊       | 21/74 [00:03<00:09,  5.31it/s]\u001b[A\n",
      " 30%|██▉       | 22/74 [00:04<00:09,  5.47it/s]\u001b[A\n",
      " 31%|███       | 23/74 [00:04<00:09,  5.55it/s]\u001b[A\n",
      " 32%|███▏      | 24/74 [00:04<00:09,  5.15it/s]\u001b[A\n",
      " 34%|███▍      | 25/74 [00:04<00:09,  5.08it/s]\u001b[A\n",
      " 35%|███▌      | 26/74 [00:04<00:09,  5.12it/s]\u001b[A\n",
      " 36%|███▋      | 27/74 [00:05<00:09,  5.15it/s]\u001b[A\n",
      " 38%|███▊      | 28/74 [00:05<00:08,  5.23it/s]\u001b[A\n",
      " 39%|███▉      | 29/74 [00:05<00:08,  5.35it/s]\u001b[A\n",
      " 41%|████      | 30/74 [00:05<00:08,  5.38it/s]\u001b[A\n",
      " 42%|████▏     | 31/74 [00:05<00:07,  5.49it/s]\u001b[A\n",
      " 43%|████▎     | 32/74 [00:05<00:08,  5.25it/s]\u001b[A\n",
      " 45%|████▍     | 33/74 [00:06<00:07,  5.43it/s]\u001b[A\n",
      " 46%|████▌     | 34/74 [00:06<00:07,  5.58it/s]\u001b[A\n",
      " 47%|████▋     | 35/74 [00:06<00:07,  5.24it/s]\u001b[A\n",
      " 49%|████▊     | 36/74 [00:06<00:07,  5.27it/s]\u001b[A\n",
      " 50%|█████     | 37/74 [00:06<00:07,  5.15it/s]\u001b[A\n",
      " 51%|█████▏    | 38/74 [00:07<00:06,  5.46it/s]\u001b[A\n",
      " 53%|█████▎    | 39/74 [00:07<00:06,  5.54it/s]\u001b[A\n",
      " 54%|█████▍    | 40/74 [00:07<00:06,  5.49it/s]\u001b[A\n",
      " 55%|█████▌    | 41/74 [00:07<00:06,  5.28it/s]\u001b[A\n",
      " 57%|█████▋    | 42/74 [00:07<00:05,  5.49it/s]\u001b[A\n",
      " 58%|█████▊    | 43/74 [00:07<00:05,  5.53it/s]\u001b[A\n",
      " 59%|█████▉    | 44/74 [00:08<00:05,  5.64it/s]\u001b[A\n",
      " 61%|██████    | 45/74 [00:08<00:05,  5.68it/s]\u001b[A\n",
      " 62%|██████▏   | 46/74 [00:08<00:04,  5.90it/s]\u001b[A\n",
      " 64%|██████▎   | 47/74 [00:08<00:04,  5.76it/s]\u001b[A\n",
      " 65%|██████▍   | 48/74 [00:08<00:04,  5.59it/s]\u001b[A\n",
      " 66%|██████▌   | 49/74 [00:09<00:04,  5.71it/s]\u001b[A\n",
      " 68%|██████▊   | 50/74 [00:09<00:04,  5.73it/s]\u001b[A\n",
      " 69%|██████▉   | 51/74 [00:09<00:04,  5.34it/s]\u001b[A\n",
      " 70%|███████   | 52/74 [00:09<00:04,  5.26it/s]\u001b[A\n",
      " 72%|███████▏  | 53/74 [00:09<00:03,  5.39it/s]\u001b[A\n",
      " 73%|███████▎  | 54/74 [00:09<00:03,  5.45it/s]\u001b[A\n",
      " 74%|███████▍  | 55/74 [00:10<00:03,  5.48it/s]\u001b[A\n",
      " 76%|███████▌  | 56/74 [00:10<00:03,  5.46it/s]\u001b[A\n",
      " 77%|███████▋  | 57/74 [00:10<00:03,  5.55it/s]\u001b[A\n",
      " 78%|███████▊  | 58/74 [00:10<00:02,  5.47it/s]\u001b[A\n",
      " 80%|███████▉  | 59/74 [00:10<00:02,  5.30it/s]\u001b[A\n",
      " 81%|████████  | 60/74 [00:11<00:02,  5.45it/s]\u001b[A\n",
      " 82%|████████▏ | 61/74 [00:11<00:02,  5.33it/s]\u001b[A\n",
      " 84%|████████▍ | 62/74 [00:11<00:02,  5.34it/s]\u001b[A\n",
      " 85%|████████▌ | 63/74 [00:11<00:02,  5.32it/s]\u001b[A\n",
      " 86%|████████▋ | 64/74 [00:11<00:01,  5.50it/s]\u001b[A\n",
      " 88%|████████▊ | 65/74 [00:11<00:01,  5.78it/s]\u001b[A\n",
      " 89%|████████▉ | 66/74 [00:12<00:01,  5.63it/s]\u001b[A\n",
      " 91%|█████████ | 67/74 [00:12<00:01,  5.86it/s]\u001b[A\n",
      " 92%|█████████▏| 68/74 [00:12<00:01,  5.87it/s]\u001b[A\n",
      " 93%|█████████▎| 69/74 [00:12<00:00,  5.71it/s]\u001b[A\n",
      " 95%|█████████▍| 70/74 [00:12<00:00,  5.63it/s]\u001b[A\n",
      " 96%|█████████▌| 71/74 [00:13<00:00,  5.76it/s]\u001b[A\n",
      " 97%|█████████▋| 72/74 [00:13<00:00,  5.57it/s]\u001b[A\n",
      " 99%|█████████▊| 73/74 [00:13<00:00,  5.60it/s]\u001b[A\n",
      "                                                  \n",
      " 75%|███████▌  | 888/1184 [15:14<03:38,  1.35it/s]\n",
      "100%|██████████| 74/74 [00:13<00:00,  5.75it/s]\u001b[A\n",
      "                                               \u001b[A"
     ]
    },
    {
     "name": "stdout",
     "output_type": "stream",
     "text": [
      "{'eval_loss': 0.17952771484851837, 'eval_accuracy': 0.9382402707275804, 'eval_f1': 0.9396195202646817, 'eval_runtime': 13.7413, 'eval_samples_per_second': 86.018, 'eval_steps_per_second': 5.385, 'epoch': 3.0}\n"
     ]
    },
    {
     "name": "stderr",
     "output_type": "stream",
     "text": [
      "IOStream.flush timed out\n",
      " 84%|████████▍ | 1000/1184 [17:54<02:30,  1.22it/s] "
     ]
    },
    {
     "name": "stdout",
     "output_type": "stream",
     "text": [
      "{'loss': 0.1308, 'learning_rate': 3.1081081081081082e-06, 'epoch': 3.38}\n"
     ]
    },
    {
     "name": "stderr",
     "output_type": "stream",
     "text": [
      " 95%|█████████▌| 1125/1184 [19:37<00:50,  1.18it/s]"
     ]
    }
   ],
   "source": [
    "trainer.train()"
   ]
  },
  {
   "cell_type": "code",
   "execution_count": 7,
   "id": "651a72bb-752f-4e91-815f-1fd5ec502588",
   "metadata": {
    "execution": {
     "iopub.execute_input": "2025-04-08T14:15:12.339500Z",
     "iopub.status.busy": "2025-04-08T14:15:12.338821Z",
     "iopub.status.idle": "2025-04-08T14:15:44.273266Z",
     "shell.execute_reply": "2025-04-08T14:15:44.271977Z",
     "shell.execute_reply.started": "2025-04-08T14:15:12.339456Z"
    },
    "tags": []
   },
   "outputs": [
    {
     "name": "stderr",
     "output_type": "stream",
     "text": [
      "You're using a RobertaTokenizerFast tokenizer. Please note that with a fast tokenizer, using the `__call__` method is faster than using a method to encode the text followed by a call to the `pad` method to get a padded encoding.\n",
      "100%|██████████| 74/74 [00:30<00:00,  2.40it/s]\n"
     ]
    },
    {
     "data": {
      "text/plain": [
       "{'eval_loss': 0.17952771484851837,\n",
       " 'eval_accuracy': 0.9382402707275804,\n",
       " 'eval_f1': 0.9382151934632695,\n",
       " 'eval_runtime': 31.8946,\n",
       " 'eval_samples_per_second': 37.06,\n",
       " 'eval_steps_per_second': 2.32}"
      ]
     },
     "execution_count": 7,
     "metadata": {},
     "output_type": "execute_result"
    }
   ],
   "source": [
    "metrics = trainer.evaluate()\n",
    "metrics"
   ]
  },
  {
   "cell_type": "code",
   "execution_count": 8,
   "id": "5cfaae64-0244-4adc-9836-75b708b2b859",
   "metadata": {
    "execution": {
     "iopub.execute_input": "2025-04-08T14:16:09.559884Z",
     "iopub.status.busy": "2025-04-08T14:16:09.558377Z",
     "iopub.status.idle": "2025-04-08T14:16:40.609727Z",
     "shell.execute_reply": "2025-04-08T14:16:40.608681Z",
     "shell.execute_reply.started": "2025-04-08T14:16:09.559830Z"
    },
    "tags": []
   },
   "outputs": [
    {
     "name": "stderr",
     "output_type": "stream",
     "text": [
      "100%|██████████| 74/74 [00:30<00:00,  2.42it/s]"
     ]
    },
    {
     "name": "stdout",
     "output_type": "stream",
     "text": [
      "Confusion matrix:\n",
      "[[541  47]\n",
      " [ 26 568]]\n"
     ]
    },
    {
     "name": "stderr",
     "output_type": "stream",
     "text": [
      "\n"
     ]
    }
   ],
   "source": [
    "predictions = trainer.predict(tokenized_datasets[\"test\"])\n",
    "y_pred = np.argmax(predictions.predictions, axis=-1)\n",
    "y_true = predictions.label_ids\n",
    "print(\"Confusion matrix:\")\n",
    "print(confusion_matrix(y_true, y_pred))"
   ]
  },
  {
   "cell_type": "code",
   "execution_count": 9,
   "id": "b264b7cb-2356-4974-b1f1-5515f95bb686",
   "metadata": {
    "execution": {
     "iopub.execute_input": "2025-04-08T14:16:40.612220Z",
     "iopub.status.busy": "2025-04-08T14:16:40.611281Z",
     "iopub.status.idle": "2025-04-08T14:16:40.625875Z",
     "shell.execute_reply": "2025-04-08T14:16:40.624867Z",
     "shell.execute_reply.started": "2025-04-08T14:16:40.612173Z"
    },
    "tags": []
   },
   "outputs": [],
   "source": [
    "trainer.save_model(\"./final_results/best_model\")"
   ]
  }
 ],
 "metadata": {
  "kernelspec": {
   "display_name": "DataSphere Kernel",
   "language": "python",
   "name": "python3"
  },
  "language_info": {
   "codemirror_mode": {
    "name": "ipython",
    "version": 3
   },
   "file_extension": ".py",
   "mimetype": "text/x-python",
   "name": "python",
   "nbconvert_exporter": "python",
   "pygments_lexer": "ipython3",
   "version": "3.10.12"
  }
 },
 "nbformat": 4,
 "nbformat_minor": 5
}
